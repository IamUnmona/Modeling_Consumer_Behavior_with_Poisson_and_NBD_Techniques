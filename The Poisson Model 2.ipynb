{
 "cells": [
  {
   "cell_type": "markdown",
   "id": "ee9baa97",
   "metadata": {},
   "source": [
    "# Part II: Analysis of New Data\n",
    "## books.csv contains information on customer purchases from amazon.com and barnesandnoble.com in 2007 (see variable domain). Various variables on customer characteristics are also in the dataset. Information available on these variables is below. There are a few other variables in the dataset – the date of each purchase (date), the product purchased (product), the number of copies purchased (qty), and the price paid (price); we will not use date, product, and price for this project."
   ]
  },
  {
   "cell_type": "code",
   "execution_count": 1,
   "id": "66dbc95a",
   "metadata": {},
   "outputs": [],
   "source": [
    "import os \n",
    "import pandas as pd\n",
    "import numpy as np\n",
    "import math\n",
    "import matplotlib.pyplot as plt\n",
    "from scipy.stats import poisson\n",
    "from scipy.optimize import minimize\n",
    "from scipy.stats import chi2\n",
    "from scipy.stats import gamma\n",
    "from scipy.stats import nbinom\n"
   ]
  },
  {
   "cell_type": "markdown",
   "id": "d1109f5a",
   "metadata": {},
   "source": [
    "# 1. Read books.csv and generate two new datasets –\n",
    "## a) books01.csv, with the structure of the data set used in the billboard exposure sexample (i.e.,withonly two columns – (i) the number purchases, and (ii) the number of people making the corresponding number of purchases),"
   ]
  },
  {
   "cell_type": "markdown",
   "id": "1c533246",
   "metadata": {},
   "source": [
    "<b>Filter for barnesandnoble.com purchases<b>"
   ]
  },
  {
   "cell_type": "code",
   "execution_count": 2,
   "id": "c94667ae",
   "metadata": {},
   "outputs": [],
   "source": [
    "data = pd.read_csv('books.csv')\n",
    "bn_purchases = data[data['domain'] == 'barnesandnoble.com']"
   ]
  },
  {
   "cell_type": "markdown",
   "id": "ab1cb5fd",
   "metadata": {},
   "source": [
    "<b>Create books01.csv by counting the number of purchases per user<b>"
   ]
  },
  {
   "cell_type": "code",
   "execution_count": 3,
   "id": "38be9329",
   "metadata": {},
   "outputs": [],
   "source": [
    "books01_data = bn_purchases.groupby('userid')['qty'].sum().reset_index()\n",
    "books01_data = books01_data['qty'].value_counts().reset_index()"
   ]
  },
  {
   "cell_type": "markdown",
   "id": "797c3385",
   "metadata": {},
   "source": [
    "<b>Create two columns<b>"
   ]
  },
  {
   "cell_type": "code",
   "execution_count": 4,
   "id": "cbe67a98",
   "metadata": {},
   "outputs": [],
   "source": [
    "books01_data.columns = ['NumberofPurchases', 'NumberofPeople']\n",
    "books01_data = books01_data.sort_values(by='NumberofPurchases')"
   ]
  },
  {
   "cell_type": "code",
   "execution_count": 5,
   "id": "1f15678e",
   "metadata": {},
   "outputs": [
    {
     "data": {
      "text/html": [
       "<div>\n",
       "<style scoped>\n",
       "    .dataframe tbody tr th:only-of-type {\n",
       "        vertical-align: middle;\n",
       "    }\n",
       "\n",
       "    .dataframe tbody tr th {\n",
       "        vertical-align: top;\n",
       "    }\n",
       "\n",
       "    .dataframe thead th {\n",
       "        text-align: right;\n",
       "    }\n",
       "</style>\n",
       "<table border=\"1\" class=\"dataframe\">\n",
       "  <thead>\n",
       "    <tr style=\"text-align: right;\">\n",
       "      <th></th>\n",
       "      <th>NumberofPurchases</th>\n",
       "      <th>NumberofPeople</th>\n",
       "    </tr>\n",
       "  </thead>\n",
       "  <tbody>\n",
       "    <tr>\n",
       "      <th>0</th>\n",
       "      <td>1</td>\n",
       "      <td>753</td>\n",
       "    </tr>\n",
       "    <tr>\n",
       "      <th>1</th>\n",
       "      <td>2</td>\n",
       "      <td>362</td>\n",
       "    </tr>\n",
       "    <tr>\n",
       "      <th>2</th>\n",
       "      <td>3</td>\n",
       "      <td>175</td>\n",
       "    </tr>\n",
       "    <tr>\n",
       "      <th>3</th>\n",
       "      <td>4</td>\n",
       "      <td>126</td>\n",
       "    </tr>\n",
       "    <tr>\n",
       "      <th>4</th>\n",
       "      <td>5</td>\n",
       "      <td>82</td>\n",
       "    </tr>\n",
       "  </tbody>\n",
       "</table>\n",
       "</div>"
      ],
      "text/plain": [
       "   NumberofPurchases  NumberofPeople\n",
       "0                  1             753\n",
       "1                  2             362\n",
       "2                  3             175\n",
       "3                  4             126\n",
       "4                  5              82"
      ]
     },
     "execution_count": 5,
     "metadata": {},
     "output_type": "execute_result"
    }
   ],
   "source": [
    "books01_data.head()"
   ]
  },
  {
   "cell_type": "markdown",
   "id": "db78ac6d",
   "metadata": {},
   "source": [
    "<b>Save books01.csv to a file<b>"
   ]
  },
  {
   "cell_type": "code",
   "execution_count": 6,
   "id": "3a3b2e79",
   "metadata": {},
   "outputs": [],
   "source": [
    "books01_file_path = 'books01.csv'\n",
    "books01_data.to_csv(books01_file_path, index=False)"
   ]
  },
  {
   "cell_type": "markdown",
   "id": "2014e6da",
   "metadata": {},
   "source": [
    "<b>Display the first and last 10 records of books01.csv<b>"
   ]
  },
  {
   "cell_type": "code",
   "execution_count": 7,
   "id": "137f0438",
   "metadata": {},
   "outputs": [
    {
     "name": "stdout",
     "output_type": "stream",
     "text": [
      " NumberofPurchases  NumberofPeople\n",
      "                 1             753\n",
      "                 2             362\n",
      "                 3             175\n",
      "                 4             126\n",
      "                 5              82\n",
      "                 6              74\n",
      "                 7              30\n",
      "                 8              48\n",
      "                 9              31\n",
      "                10              20\n",
      " NumberofPurchases  NumberofPeople\n",
      "                46               1\n",
      "                47               1\n",
      "                50               1\n",
      "                56               1\n",
      "                58               1\n",
      "                62               1\n",
      "                63               1\n",
      "                83               1\n",
      "                86               1\n",
      "               111               1\n"
     ]
    }
   ],
   "source": [
    "print(books01_data.head(10).to_string(index=False))\n",
    "print(books01_data.tail(10).to_string(index=False))"
   ]
  },
  {
   "cell_type": "markdown",
   "id": "eb607e2c",
   "metadata": {},
   "source": [
    "## b) books02.csv, with the structure of the dataset used in the khakichinos example, with a new column containing a count of the number of books purchased from barnesandnoble.com by each customer, while keeping the demographic variables (remember to drop date, product, and price).\n"
   ]
  },
  {
   "cell_type": "markdown",
   "id": "18a3e8fc",
   "metadata": {},
   "source": [
    "<b>Drop date, product, and price<b>"
   ]
  },
  {
   "cell_type": "code",
   "execution_count": 8,
   "id": "a271a397",
   "metadata": {},
   "outputs": [],
   "source": [
    "bn_purchases = bn_purchases.drop(columns=['date', 'product','price'])\n"
   ]
  },
  {
   "cell_type": "code",
   "execution_count": 9,
   "id": "02a694d9",
   "metadata": {},
   "outputs": [
    {
     "data": {
      "text/html": [
       "<div>\n",
       "<style scoped>\n",
       "    .dataframe tbody tr th:only-of-type {\n",
       "        vertical-align: middle;\n",
       "    }\n",
       "\n",
       "    .dataframe tbody tr th {\n",
       "        vertical-align: top;\n",
       "    }\n",
       "\n",
       "    .dataframe thead th {\n",
       "        text-align: right;\n",
       "    }\n",
       "</style>\n",
       "<table border=\"1\" class=\"dataframe\">\n",
       "  <thead>\n",
       "    <tr style=\"text-align: right;\">\n",
       "      <th></th>\n",
       "      <th>userid</th>\n",
       "      <th>education</th>\n",
       "      <th>region</th>\n",
       "      <th>hhsz</th>\n",
       "      <th>age</th>\n",
       "      <th>income</th>\n",
       "      <th>child</th>\n",
       "      <th>race</th>\n",
       "      <th>country</th>\n",
       "      <th>domain</th>\n",
       "      <th>qty</th>\n",
       "    </tr>\n",
       "  </thead>\n",
       "  <tbody>\n",
       "    <tr>\n",
       "      <th>19</th>\n",
       "      <td>13503636</td>\n",
       "      <td>4.0</td>\n",
       "      <td>3.0</td>\n",
       "      <td>4</td>\n",
       "      <td>8.0</td>\n",
       "      <td>7</td>\n",
       "      <td>1</td>\n",
       "      <td>1</td>\n",
       "      <td>1</td>\n",
       "      <td>barnesandnoble.com</td>\n",
       "      <td>1</td>\n",
       "    </tr>\n",
       "    <tr>\n",
       "      <th>20</th>\n",
       "      <td>13503636</td>\n",
       "      <td>4.0</td>\n",
       "      <td>3.0</td>\n",
       "      <td>4</td>\n",
       "      <td>8.0</td>\n",
       "      <td>7</td>\n",
       "      <td>1</td>\n",
       "      <td>1</td>\n",
       "      <td>1</td>\n",
       "      <td>barnesandnoble.com</td>\n",
       "      <td>1</td>\n",
       "    </tr>\n",
       "    <tr>\n",
       "      <th>21</th>\n",
       "      <td>13503636</td>\n",
       "      <td>4.0</td>\n",
       "      <td>3.0</td>\n",
       "      <td>4</td>\n",
       "      <td>8.0</td>\n",
       "      <td>7</td>\n",
       "      <td>1</td>\n",
       "      <td>1</td>\n",
       "      <td>1</td>\n",
       "      <td>barnesandnoble.com</td>\n",
       "      <td>1</td>\n",
       "    </tr>\n",
       "    <tr>\n",
       "      <th>45</th>\n",
       "      <td>14559596</td>\n",
       "      <td>NaN</td>\n",
       "      <td>4.0</td>\n",
       "      <td>2</td>\n",
       "      <td>10.0</td>\n",
       "      <td>5</td>\n",
       "      <td>1</td>\n",
       "      <td>1</td>\n",
       "      <td>0</td>\n",
       "      <td>barnesandnoble.com</td>\n",
       "      <td>1</td>\n",
       "    </tr>\n",
       "    <tr>\n",
       "      <th>46</th>\n",
       "      <td>14559596</td>\n",
       "      <td>NaN</td>\n",
       "      <td>4.0</td>\n",
       "      <td>2</td>\n",
       "      <td>10.0</td>\n",
       "      <td>5</td>\n",
       "      <td>1</td>\n",
       "      <td>1</td>\n",
       "      <td>0</td>\n",
       "      <td>barnesandnoble.com</td>\n",
       "      <td>1</td>\n",
       "    </tr>\n",
       "    <tr>\n",
       "      <th>...</th>\n",
       "      <td>...</td>\n",
       "      <td>...</td>\n",
       "      <td>...</td>\n",
       "      <td>...</td>\n",
       "      <td>...</td>\n",
       "      <td>...</td>\n",
       "      <td>...</td>\n",
       "      <td>...</td>\n",
       "      <td>...</td>\n",
       "      <td>...</td>\n",
       "      <td>...</td>\n",
       "    </tr>\n",
       "    <tr>\n",
       "      <th>40932</th>\n",
       "      <td>15541746</td>\n",
       "      <td>NaN</td>\n",
       "      <td>1.0</td>\n",
       "      <td>4</td>\n",
       "      <td>6.0</td>\n",
       "      <td>3</td>\n",
       "      <td>1</td>\n",
       "      <td>1</td>\n",
       "      <td>0</td>\n",
       "      <td>barnesandnoble.com</td>\n",
       "      <td>1</td>\n",
       "    </tr>\n",
       "    <tr>\n",
       "      <th>40933</th>\n",
       "      <td>15541746</td>\n",
       "      <td>NaN</td>\n",
       "      <td>1.0</td>\n",
       "      <td>4</td>\n",
       "      <td>6.0</td>\n",
       "      <td>3</td>\n",
       "      <td>1</td>\n",
       "      <td>1</td>\n",
       "      <td>0</td>\n",
       "      <td>barnesandnoble.com</td>\n",
       "      <td>1</td>\n",
       "    </tr>\n",
       "    <tr>\n",
       "      <th>40934</th>\n",
       "      <td>15541746</td>\n",
       "      <td>NaN</td>\n",
       "      <td>1.0</td>\n",
       "      <td>4</td>\n",
       "      <td>6.0</td>\n",
       "      <td>3</td>\n",
       "      <td>1</td>\n",
       "      <td>1</td>\n",
       "      <td>0</td>\n",
       "      <td>barnesandnoble.com</td>\n",
       "      <td>1</td>\n",
       "    </tr>\n",
       "    <tr>\n",
       "      <th>40935</th>\n",
       "      <td>15541746</td>\n",
       "      <td>NaN</td>\n",
       "      <td>1.0</td>\n",
       "      <td>4</td>\n",
       "      <td>6.0</td>\n",
       "      <td>3</td>\n",
       "      <td>1</td>\n",
       "      <td>1</td>\n",
       "      <td>0</td>\n",
       "      <td>barnesandnoble.com</td>\n",
       "      <td>1</td>\n",
       "    </tr>\n",
       "    <tr>\n",
       "      <th>40936</th>\n",
       "      <td>15541746</td>\n",
       "      <td>NaN</td>\n",
       "      <td>1.0</td>\n",
       "      <td>4</td>\n",
       "      <td>6.0</td>\n",
       "      <td>3</td>\n",
       "      <td>1</td>\n",
       "      <td>1</td>\n",
       "      <td>0</td>\n",
       "      <td>barnesandnoble.com</td>\n",
       "      <td>1</td>\n",
       "    </tr>\n",
       "  </tbody>\n",
       "</table>\n",
       "<p>6657 rows × 11 columns</p>\n",
       "</div>"
      ],
      "text/plain": [
       "         userid  education  region  hhsz   age  income  child  race  country  \\\n",
       "19     13503636        4.0     3.0     4   8.0       7      1     1        1   \n",
       "20     13503636        4.0     3.0     4   8.0       7      1     1        1   \n",
       "21     13503636        4.0     3.0     4   8.0       7      1     1        1   \n",
       "45     14559596        NaN     4.0     2  10.0       5      1     1        0   \n",
       "46     14559596        NaN     4.0     2  10.0       5      1     1        0   \n",
       "...         ...        ...     ...   ...   ...     ...    ...   ...      ...   \n",
       "40932  15541746        NaN     1.0     4   6.0       3      1     1        0   \n",
       "40933  15541746        NaN     1.0     4   6.0       3      1     1        0   \n",
       "40934  15541746        NaN     1.0     4   6.0       3      1     1        0   \n",
       "40935  15541746        NaN     1.0     4   6.0       3      1     1        0   \n",
       "40936  15541746        NaN     1.0     4   6.0       3      1     1        0   \n",
       "\n",
       "                   domain  qty  \n",
       "19     barnesandnoble.com    1  \n",
       "20     barnesandnoble.com    1  \n",
       "21     barnesandnoble.com    1  \n",
       "45     barnesandnoble.com    1  \n",
       "46     barnesandnoble.com    1  \n",
       "...                   ...  ...  \n",
       "40932  barnesandnoble.com    1  \n",
       "40933  barnesandnoble.com    1  \n",
       "40934  barnesandnoble.com    1  \n",
       "40935  barnesandnoble.com    1  \n",
       "40936  barnesandnoble.com    1  \n",
       "\n",
       "[6657 rows x 11 columns]"
      ]
     },
     "execution_count": 9,
     "metadata": {},
     "output_type": "execute_result"
    }
   ],
   "source": [
    "bn_purchases"
   ]
  },
  {
   "cell_type": "markdown",
   "id": "0d0e2771",
   "metadata": {},
   "source": [
    "<b>Selecting relevant columns for books02.csv<b>"
   ]
  },
  {
   "cell_type": "code",
   "execution_count": 10,
   "id": "63ad3b8d",
   "metadata": {},
   "outputs": [],
   "source": [
    "books02_data = bn_purchases.groupby('userid').agg({\n",
    "    'education': 'first',\n",
    "    'region': 'first',\n",
    "    'hhsz': 'first',\n",
    "    'age': 'first',\n",
    "    'income': 'first',\n",
    "    'child': 'first',\n",
    "    'race': 'first',\n",
    "    'country': 'first',\n",
    "    'qty': 'sum'\n",
    "}).reset_index()"
   ]
  },
  {
   "cell_type": "markdown",
   "id": "87a8bb7a",
   "metadata": {},
   "source": [
    "<b>Adding the number of books purchased column<b>"
   ]
  },
  {
   "cell_type": "code",
   "execution_count": 11,
   "id": "87e52d03",
   "metadata": {},
   "outputs": [],
   "source": [
    "books02_data = books02_data.rename(columns={'qty': 'number_of_books_purchased'})"
   ]
  },
  {
   "cell_type": "code",
   "execution_count": 12,
   "id": "f911a048",
   "metadata": {},
   "outputs": [
    {
     "data": {
      "text/html": [
       "<div>\n",
       "<style scoped>\n",
       "    .dataframe tbody tr th:only-of-type {\n",
       "        vertical-align: middle;\n",
       "    }\n",
       "\n",
       "    .dataframe tbody tr th {\n",
       "        vertical-align: top;\n",
       "    }\n",
       "\n",
       "    .dataframe thead th {\n",
       "        text-align: right;\n",
       "    }\n",
       "</style>\n",
       "<table border=\"1\" class=\"dataframe\">\n",
       "  <thead>\n",
       "    <tr style=\"text-align: right;\">\n",
       "      <th></th>\n",
       "      <th>userid</th>\n",
       "      <th>education</th>\n",
       "      <th>region</th>\n",
       "      <th>hhsz</th>\n",
       "      <th>age</th>\n",
       "      <th>income</th>\n",
       "      <th>child</th>\n",
       "      <th>race</th>\n",
       "      <th>country</th>\n",
       "      <th>number_of_books_purchased</th>\n",
       "    </tr>\n",
       "  </thead>\n",
       "  <tbody>\n",
       "    <tr>\n",
       "      <th>0</th>\n",
       "      <td>6365661</td>\n",
       "      <td>5.0</td>\n",
       "      <td>1.0</td>\n",
       "      <td>2</td>\n",
       "      <td>11.0</td>\n",
       "      <td>7</td>\n",
       "      <td>0</td>\n",
       "      <td>1</td>\n",
       "      <td>0</td>\n",
       "      <td>1</td>\n",
       "    </tr>\n",
       "    <tr>\n",
       "      <th>1</th>\n",
       "      <td>6396922</td>\n",
       "      <td>2.0</td>\n",
       "      <td>2.0</td>\n",
       "      <td>2</td>\n",
       "      <td>8.0</td>\n",
       "      <td>4</td>\n",
       "      <td>0</td>\n",
       "      <td>1</td>\n",
       "      <td>0</td>\n",
       "      <td>1</td>\n",
       "    </tr>\n",
       "    <tr>\n",
       "      <th>2</th>\n",
       "      <td>8999933</td>\n",
       "      <td>4.0</td>\n",
       "      <td>3.0</td>\n",
       "      <td>5</td>\n",
       "      <td>10.0</td>\n",
       "      <td>3</td>\n",
       "      <td>1</td>\n",
       "      <td>1</td>\n",
       "      <td>0</td>\n",
       "      <td>1</td>\n",
       "    </tr>\n",
       "    <tr>\n",
       "      <th>3</th>\n",
       "      <td>9573834</td>\n",
       "      <td>NaN</td>\n",
       "      <td>4.0</td>\n",
       "      <td>2</td>\n",
       "      <td>10.0</td>\n",
       "      <td>5</td>\n",
       "      <td>1</td>\n",
       "      <td>1</td>\n",
       "      <td>0</td>\n",
       "      <td>2</td>\n",
       "    </tr>\n",
       "    <tr>\n",
       "      <th>4</th>\n",
       "      <td>9576277</td>\n",
       "      <td>NaN</td>\n",
       "      <td>1.0</td>\n",
       "      <td>3</td>\n",
       "      <td>8.0</td>\n",
       "      <td>7</td>\n",
       "      <td>1</td>\n",
       "      <td>1</td>\n",
       "      <td>0</td>\n",
       "      <td>5</td>\n",
       "    </tr>\n",
       "    <tr>\n",
       "      <th>...</th>\n",
       "      <td>...</td>\n",
       "      <td>...</td>\n",
       "      <td>...</td>\n",
       "      <td>...</td>\n",
       "      <td>...</td>\n",
       "      <td>...</td>\n",
       "      <td>...</td>\n",
       "      <td>...</td>\n",
       "      <td>...</td>\n",
       "      <td>...</td>\n",
       "    </tr>\n",
       "    <tr>\n",
       "      <th>1807</th>\n",
       "      <td>15695968</td>\n",
       "      <td>1.0</td>\n",
       "      <td>2.0</td>\n",
       "      <td>5</td>\n",
       "      <td>10.0</td>\n",
       "      <td>2</td>\n",
       "      <td>1</td>\n",
       "      <td>1</td>\n",
       "      <td>0</td>\n",
       "      <td>5</td>\n",
       "    </tr>\n",
       "    <tr>\n",
       "      <th>1808</th>\n",
       "      <td>15696910</td>\n",
       "      <td>NaN</td>\n",
       "      <td>3.0</td>\n",
       "      <td>4</td>\n",
       "      <td>8.0</td>\n",
       "      <td>4</td>\n",
       "      <td>1</td>\n",
       "      <td>1</td>\n",
       "      <td>0</td>\n",
       "      <td>2</td>\n",
       "    </tr>\n",
       "    <tr>\n",
       "      <th>1809</th>\n",
       "      <td>15698055</td>\n",
       "      <td>NaN</td>\n",
       "      <td>3.0</td>\n",
       "      <td>4</td>\n",
       "      <td>4.0</td>\n",
       "      <td>4</td>\n",
       "      <td>1</td>\n",
       "      <td>1</td>\n",
       "      <td>0</td>\n",
       "      <td>9</td>\n",
       "    </tr>\n",
       "    <tr>\n",
       "      <th>1810</th>\n",
       "      <td>15698341</td>\n",
       "      <td>NaN</td>\n",
       "      <td>4.0</td>\n",
       "      <td>6</td>\n",
       "      <td>8.0</td>\n",
       "      <td>6</td>\n",
       "      <td>1</td>\n",
       "      <td>1</td>\n",
       "      <td>0</td>\n",
       "      <td>2</td>\n",
       "    </tr>\n",
       "    <tr>\n",
       "      <th>1811</th>\n",
       "      <td>15698605</td>\n",
       "      <td>NaN</td>\n",
       "      <td>4.0</td>\n",
       "      <td>1</td>\n",
       "      <td>11.0</td>\n",
       "      <td>2</td>\n",
       "      <td>0</td>\n",
       "      <td>1</td>\n",
       "      <td>0</td>\n",
       "      <td>1</td>\n",
       "    </tr>\n",
       "  </tbody>\n",
       "</table>\n",
       "<p>1812 rows × 10 columns</p>\n",
       "</div>"
      ],
      "text/plain": [
       "        userid  education  region  hhsz   age  income  child  race  country  \\\n",
       "0      6365661        5.0     1.0     2  11.0       7      0     1        0   \n",
       "1      6396922        2.0     2.0     2   8.0       4      0     1        0   \n",
       "2      8999933        4.0     3.0     5  10.0       3      1     1        0   \n",
       "3      9573834        NaN     4.0     2  10.0       5      1     1        0   \n",
       "4      9576277        NaN     1.0     3   8.0       7      1     1        0   \n",
       "...        ...        ...     ...   ...   ...     ...    ...   ...      ...   \n",
       "1807  15695968        1.0     2.0     5  10.0       2      1     1        0   \n",
       "1808  15696910        NaN     3.0     4   8.0       4      1     1        0   \n",
       "1809  15698055        NaN     3.0     4   4.0       4      1     1        0   \n",
       "1810  15698341        NaN     4.0     6   8.0       6      1     1        0   \n",
       "1811  15698605        NaN     4.0     1  11.0       2      0     1        0   \n",
       "\n",
       "      number_of_books_purchased  \n",
       "0                             1  \n",
       "1                             1  \n",
       "2                             1  \n",
       "3                             2  \n",
       "4                             5  \n",
       "...                         ...  \n",
       "1807                          5  \n",
       "1808                          2  \n",
       "1809                          9  \n",
       "1810                          2  \n",
       "1811                          1  \n",
       "\n",
       "[1812 rows x 10 columns]"
      ]
     },
     "execution_count": 12,
     "metadata": {},
     "output_type": "execute_result"
    }
   ],
   "source": [
    "books02_data"
   ]
  },
  {
   "cell_type": "markdown",
   "id": "26aac5b6",
   "metadata": {},
   "source": [
    "<b>Save books02.csv to a file<b>"
   ]
  },
  {
   "cell_type": "code",
   "execution_count": 13,
   "id": "70c81025",
   "metadata": {},
   "outputs": [],
   "source": [
    "books02_file_path = 'books02.csv'\n",
    "books02_data.to_csv(books02_file_path, index=False)"
   ]
  },
  {
   "cell_type": "markdown",
   "id": "b9793d0f",
   "metadata": {},
   "source": [
    "<b>Display the first and last 10 records of books02.csv<b>"
   ]
  },
  {
   "cell_type": "code",
   "execution_count": 14,
   "id": "c8f38edd",
   "metadata": {},
   "outputs": [
    {
     "name": "stdout",
     "output_type": "stream",
     "text": [
      "  userid  education  region  hhsz   age  income  child  race  country  number_of_books_purchased\n",
      " 6365661        5.0     1.0     2  11.0       7      0     1        0                          1\n",
      " 6396922        2.0     2.0     2   8.0       4      0     1        0                          1\n",
      " 8999933        4.0     3.0     5  10.0       3      1     1        0                          1\n",
      " 9573834        NaN     4.0     2  10.0       5      1     1        0                          2\n",
      " 9576277        NaN     1.0     3   8.0       7      1     1        0                          5\n",
      " 9581009        NaN     2.0     2   7.0       5      1     1        0                          1\n",
      " 9595310        4.0     2.0     2   8.0       2      1     1        0                          6\n",
      " 9611445        2.0     4.0     2  11.0       6      1     1        1                          2\n",
      " 9663372        4.0     4.0     3   9.0       7      1     1        0                         28\n",
      " 9752844        3.0     4.0     2   7.0       3      1     1        0                          2\n",
      "   userid  education  region  hhsz   age  income  child  race  country  number_of_books_purchased\n",
      " 15687857        4.0     1.0     6   5.0       7      1     1        0                          9\n",
      " 15688844        NaN     1.0     2   9.0       4      0     1        1                          4\n",
      " 15691873        4.0     1.0     3   7.0       4      1     1        0                          2\n",
      " 15693308        5.0     4.0     5   5.0       5      1     1        1                          1\n",
      " 15693668        NaN     4.0     2   5.0       5      1     1        0                          3\n",
      " 15695968        1.0     2.0     5  10.0       2      1     1        0                          5\n",
      " 15696910        NaN     3.0     4   8.0       4      1     1        0                          2\n",
      " 15698055        NaN     3.0     4   4.0       4      1     1        0                          9\n",
      " 15698341        NaN     4.0     6   8.0       6      1     1        0                          2\n",
      " 15698605        NaN     4.0     1  11.0       2      0     1        0                          1\n"
     ]
    }
   ],
   "source": [
    "print(books02_data.head(10).to_string(index=False))\n",
    "print(books02_data.tail(10).to_string(index=False))"
   ]
  },
  {
   "cell_type": "markdown",
   "id": "0328cf8c",
   "metadata": {},
   "source": [
    "## Develop a Poisson model using books01.csv. Report your code, the estimated parameters and the maximum value of the log-likelihood (and any other information you believe is relevant)."
   ]
  },
  {
   "cell_type": "markdown",
   "id": "1d3da8f3",
   "metadata": {},
   "source": [
    "<b>Read in the data<b>"
   ]
  },
  {
   "cell_type": "code",
   "execution_count": 15,
   "id": "2dbd9d1b",
   "metadata": {},
   "outputs": [
    {
     "data": {
      "text/html": [
       "<div>\n",
       "<style scoped>\n",
       "    .dataframe tbody tr th:only-of-type {\n",
       "        vertical-align: middle;\n",
       "    }\n",
       "\n",
       "    .dataframe tbody tr th {\n",
       "        vertical-align: top;\n",
       "    }\n",
       "\n",
       "    .dataframe thead th {\n",
       "        text-align: right;\n",
       "    }\n",
       "</style>\n",
       "<table border=\"1\" class=\"dataframe\">\n",
       "  <thead>\n",
       "    <tr style=\"text-align: right;\">\n",
       "      <th></th>\n",
       "      <th>NumberofPurchases</th>\n",
       "      <th>NumberofPeople</th>\n",
       "    </tr>\n",
       "  </thead>\n",
       "  <tbody>\n",
       "    <tr>\n",
       "      <th>0</th>\n",
       "      <td>1</td>\n",
       "      <td>753</td>\n",
       "    </tr>\n",
       "    <tr>\n",
       "      <th>1</th>\n",
       "      <td>2</td>\n",
       "      <td>362</td>\n",
       "    </tr>\n",
       "    <tr>\n",
       "      <th>2</th>\n",
       "      <td>3</td>\n",
       "      <td>175</td>\n",
       "    </tr>\n",
       "    <tr>\n",
       "      <th>3</th>\n",
       "      <td>4</td>\n",
       "      <td>126</td>\n",
       "    </tr>\n",
       "    <tr>\n",
       "      <th>4</th>\n",
       "      <td>5</td>\n",
       "      <td>82</td>\n",
       "    </tr>\n",
       "  </tbody>\n",
       "</table>\n",
       "</div>"
      ],
      "text/plain": [
       "   NumberofPurchases  NumberofPeople\n",
       "0                  1             753\n",
       "1                  2             362\n",
       "2                  3             175\n",
       "3                  4             126\n",
       "4                  5              82"
      ]
     },
     "execution_count": 15,
     "metadata": {},
     "output_type": "execute_result"
    }
   ],
   "source": [
    "books1_PP = pd.read_csv(\"books01.csv\")\n",
    "books1_PP.head()"
   ]
  },
  {
   "cell_type": "markdown",
   "id": "d21daa3d",
   "metadata": {},
   "source": [
    "<b>Define the funtions needed</b><br>\n",
    "<b>1. the log-likelihood</b>"
   ]
  },
  {
   "cell_type": "code",
   "execution_count": 16,
   "id": "4f3b28d5",
   "metadata": {},
   "outputs": [],
   "source": [
    "def ll_poisson(params, purchases, people):\n",
    "    lam = params\n",
    "    \n",
    "    prob = []\n",
    "    prob_t =[]\n",
    "    #probSum = 0\n",
    "    \n",
    "# need to consider all periods\n",
    "    pds = list(range(0, len(purchases)))\n",
    "    for i in pds:\n",
    "            prob.append(poisson.pmf(purchases[i],lam))\n",
    "            prob_t.append(people[i]*np.log(prob[i]))\n",
    "        \n",
    "    return sum(prob_t)"
   ]
  },
  {
   "cell_type": "markdown",
   "id": "ac7fa50a",
   "metadata": {},
   "source": [
    "<b>2. the negative of the log-likelihood</b>"
   ]
  },
  {
   "cell_type": "code",
   "execution_count": 17,
   "id": "47a66e2b",
   "metadata": {},
   "outputs": [],
   "source": [
    "def neg_ll_poisson(params, purchases, people):\n",
    "    return(-np.sum(ll_poisson(params, purchases, people)))"
   ]
  },
  {
   "cell_type": "markdown",
   "id": "0a799a3b",
   "metadata": {},
   "source": [
    "<b>Specify the information needed for the optimizer</b>"
   ]
  },
  {
   "cell_type": "code",
   "execution_count": 18,
   "id": "d6107951",
   "metadata": {},
   "outputs": [],
   "source": [
    "exposures = books1_PP.NumberofPurchases\n",
    "people = books1_PP.NumberofPeople\n",
    "params = 1\n"
   ]
  },
  {
   "cell_type": "code",
   "execution_count": 19,
   "id": "bb86e1a5",
   "metadata": {},
   "outputs": [
    {
     "name": "stdout",
     "output_type": "stream",
     "text": [
      "1 -11610.619782398968\n",
      "neg: 11610.619782398968\n"
     ]
    }
   ],
   "source": [
    "print(params, ll_poisson(params, exposures, people))\n",
    "print('neg:', neg_ll_poisson(params, exposures, people))"
   ]
  },
  {
   "cell_type": "markdown",
   "id": "02ec1650",
   "metadata": {},
   "source": [
    "<b>Review the result</b>"
   ]
  },
  {
   "cell_type": "code",
   "execution_count": 20,
   "id": "2ec036fe",
   "metadata": {},
   "outputs": [],
   "source": [
    "result_poisson = minimize(\n",
    "    neg_ll_poisson, \n",
    "    params,\n",
    "    args=(exposures, people))"
   ]
  },
  {
   "cell_type": "code",
   "execution_count": 21,
   "id": "9cc01239",
   "metadata": {},
   "outputs": [
    {
     "data": {
      "text/plain": [
       "      fun: 7237.867978907432\n",
       " hess_inv: array([[0.00215312]])\n",
       "      jac: array([0.])\n",
       "  message: 'Optimization terminated successfully.'\n",
       "     nfev: 18\n",
       "      nit: 8\n",
       "     njev: 9\n",
       "   status: 0\n",
       "  success: True\n",
       "        x: array([3.90397343])"
      ]
     },
     "execution_count": 21,
     "metadata": {},
     "output_type": "execute_result"
    }
   ],
   "source": [
    "result_poisson"
   ]
  },
  {
   "cell_type": "markdown",
   "id": "3cb73f71",
   "metadata": {},
   "source": [
    "<b>The estimated parameter (lambda) for the Poisson model is approximately 3.904, and the maximum value of the log-likelihood is approximately -7237.867.<b>"
   ]
  },
  {
   "cell_type": "markdown",
   "id": "3f87dba8",
   "metadata": {},
   "source": [
    "# Develop a Poisson model using books02.csv, i.e., by ignoring the independent variables available. Report your code and confirm that the estimated parameters and the maximum value of the log-likelihood are identical to those obtained with the Poisson model developed using books01.csv.\n",
    "## Predict the number of people with 0, ..., 20, 20+ visits based on the Poisson model. Explain how the predicted values are obtained using the case of 2 exposures (show your calculations). Graph the original and predicted number of visits.\n"
   ]
  },
  {
   "cell_type": "code",
   "execution_count": 22,
   "id": "2b1bc520",
   "metadata": {},
   "outputs": [
    {
     "name": "stdout",
     "output_type": "stream",
     "text": [
      "Estimated Poisson parameter (lambda): 3.90\n",
      "Maximum Log-Likelihood: -7237.867978907432\n",
      "      fun: 7237.867978907432\n",
      " hess_inv: array([[0.00215283]])\n",
      "      jac: array([0.])\n",
      "  message: 'Optimization terminated successfully.'\n",
      "     nfev: 18\n",
      "      nit: 8\n",
      "     njev: 9\n",
      "   status: 0\n",
      "  success: True\n",
      "        x: array([3.9039734])\n"
     ]
    }
   ],
   "source": [
    "data2= books02_data['number_of_books_purchased']\n",
    "\n",
    "def ll_poisson2(params, data2):\n",
    "    lam = params\n",
    "    log_likelihood = np.sum(poisson.logpmf(data2, lam))\n",
    "    return log_likelihood\n",
    "\n",
    "# Define the negative log-likelihood function\n",
    "def neg_ll_poisson2(params, data2):\n",
    "    return -ll_poisson2(params, data2)\n",
    "\n",
    "# Initial guess for lambda (mu)\n",
    "initial_guess = 1\n",
    "\n",
    "# Fit the Poisson model using optimization\n",
    "result_poisson2 = minimize(neg_ll_poisson2, initial_guess, args=(data2,))\n",
    "\n",
    "# Extract the estimated parameter\n",
    "lambda_hat = result_poisson.x[0]\n",
    "\n",
    "# Print results\n",
    "print(f\"Estimated Poisson parameter (lambda): {lambda_hat:.2f}\")\n",
    "print(\"Maximum Log-Likelihood:\", -result_poisson2.fun)\n",
    "print(result_poisson2)"
   ]
  },
  {
   "cell_type": "markdown",
   "id": "d76a11f0",
   "metadata": {},
   "source": [
    "<b>The estimated parameter (lambda) for the Poisson model is approximately 3.903, and the maximum value of the log-likelihood is approximately -7237.867. We can see that the results are similar to results from Question 2.<b>"
   ]
  },
  {
   "cell_type": "code",
   "execution_count": 23,
   "id": "4ca2d655",
   "metadata": {},
   "outputs": [],
   "source": [
    "lam_nbd  = result_poisson2.x[0]\n",
    "lam_nbd\n",
    "predTo = len(books1_PP.NumberofPeople[:23])\n",
    "purchases = books1_PP.NumberofPurchases[:23]\n",
    "people_s = books1_PP.NumberofPeople[:23]"
   ]
  },
  {
   "cell_type": "markdown",
   "id": "46a6e148",
   "metadata": {},
   "source": [
    "<b>Prediction</b>"
   ]
  },
  {
   "cell_type": "code",
   "execution_count": 24,
   "id": "b4c16bdf",
   "metadata": {},
   "outputs": [],
   "source": [
    "def predict(lam_nbd, purchases, predTo, predC):\n",
    "# need to make predictions for all periods\n",
    "    pds = list(range(0, predTo))\n",
    "    for i in pds:\n",
    "        predC[i] = poisson.pmf(exposures[i],lam_nbd) * np.sum(people)        "
   ]
  },
  {
   "cell_type": "code",
   "execution_count": 25,
   "id": "fb8b600f",
   "metadata": {},
   "outputs": [],
   "source": [
    "predC = np.zeros(predTo)"
   ]
  },
  {
   "cell_type": "code",
   "execution_count": 26,
   "id": "0d82a690",
   "metadata": {},
   "outputs": [],
   "source": [
    "predict(lam_nbd, purchases, predTo, predC)\n"
   ]
  },
  {
   "cell_type": "markdown",
   "id": "dd032e78",
   "metadata": {},
   "source": [
    "<b>Predicted results<b>"
   ]
  },
  {
   "cell_type": "code",
   "execution_count": 27,
   "id": "ed3ee8c5",
   "metadata": {},
   "outputs": [
    {
     "data": {
      "text/plain": [
       "array([1.42623450e+02, 2.78399078e+02, 3.62287531e+02, 3.53590222e+02,\n",
       "       2.76081364e+02, 1.79635717e+02, 1.00184723e+02, 4.88898117e+01,\n",
       "       2.12071694e+01, 8.27922252e+00, 2.93835132e+00, 9.55937116e-01,\n",
       "       2.87073313e-01, 8.00518986e-02, 2.08346989e-02, 5.08363188e-03,\n",
       "       1.16743316e-03, 2.53201555e-04, 5.20259019e-05, 1.01553869e-05,\n",
       "       1.88792191e-06, 5.68652838e-08, 9.25002314e-09])"
      ]
     },
     "execution_count": 27,
     "metadata": {},
     "output_type": "execute_result"
    }
   ],
   "source": [
    "predC"
   ]
  },
  {
   "cell_type": "markdown",
   "id": "509604dc",
   "metadata": {},
   "source": [
    "<b>The predicted number of people with 2 exposures is at approximately 3.622e+02.<b>"
   ]
  },
  {
   "cell_type": "markdown",
   "id": "28902a51",
   "metadata": {},
   "source": [
    "<b>Plot the actual values and predictions</b>"
   ]
  },
  {
   "cell_type": "code",
   "execution_count": 28,
   "id": "36c467c0",
   "metadata": {},
   "outputs": [
    {
     "data": {
      "image/png": "[encoded data removed]",
      "text/plain": [
       "<Figure size 720x432 with 1 Axes>"
      ]
     },
     "metadata": {
      "needs_background": "light"
     },
     "output_type": "display_data"
    }
   ],
   "source": [
    "import matplotlib.pyplot as plt\n",
    "\n",
    "# Plot the original and the predicted number of exposures\n",
    "plt.figure(figsize=(10, 6))\n",
    "plt.bar(purchases - 0.2, people_s, width=0.4, label='Original', align='center')\n",
    "plt.bar(purchases + 0.2, predC, width=0.4, label='Predicted', align='center', color='orange')\n",
    "plt.xlabel('Number of Purchases')\n",
    "plt.ylabel('Number of People')\n",
    "plt.title('Original vs Predicted Number of Book Purchases')\n",
    "plt.xticks(purchases)\n",
    "plt.legend()\n",
    "plt.grid(True)\n",
    "plt.show()"
   ]
  }
 ],
 "metadata": {
  "kernelspec": {
   "display_name": "Python 3 (ipykernel)",
   "language": "python",
   "name": "python3"
  },
  "language_info": {
   "codemirror_mode": {
    "name": "ipython",
    "version": 3
   },
   "file_extension": ".py",
   "mimetype": "text/x-python",
   "name": "python",
   "nbconvert_exporter": "python",
   "pygments_lexer": "ipython3",
   "version": "3.11.5"
  }
 },
 "nbformat": 4,
 "nbformat_minor": 5
}
