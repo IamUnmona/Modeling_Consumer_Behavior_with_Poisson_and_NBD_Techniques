{
 "cells": [
  {
   "cell_type": "markdown",
   "metadata": {},
   "source": [
    "# The NBD Model\n",
    "## Write code (for the same dataset) to estimate the parameters of the NBD model using MLE. Report your code, the estimated parameters and the maximum value of the log-likelihood. Evaluate the NBD model vis-à-vis the Poisson model; explain which is better and why. Predict the number of people with 0, ..., 23 exposures based on the NBD model. Explain how the predicted values are obtained using the case of 2 exposures (show your calculations). Graph the original and predicted numbers of exposures."
   ]
  },
  {
   "cell_type": "code",
   "execution_count": 1,
   "metadata": {},
   "outputs": [],
   "source": [
    "import os \n",
    "import pandas as pd\n",
    "import numpy as np\n",
    "import matplotlib.pyplot as plt\n",
    "from scipy.optimize import minimize"
   ]
  },
  {
   "cell_type": "markdown",
   "metadata": {},
   "source": [
    "<hr style=\"border:2px solid black\">\n",
    "<b>Read in the data</b>\n",
    "<hr style=\"border:2px solid black\">"
   ]
  },
  {
   "cell_type": "code",
   "execution_count": 2,
   "metadata": {},
   "outputs": [
    {
     "data": {
      "text/html": [
       "<div>\n",
       "<style scoped>\n",
       "    .dataframe tbody tr th:only-of-type {\n",
       "        vertical-align: middle;\n",
       "    }\n",
       "\n",
       "    .dataframe tbody tr th {\n",
       "        vertical-align: top;\n",
       "    }\n",
       "\n",
       "    .dataframe thead th {\n",
       "        text-align: right;\n",
       "    }\n",
       "</style>\n",
       "<table border=\"1\" class=\"dataframe\">\n",
       "  <thead>\n",
       "    <tr style=\"text-align: right;\">\n",
       "      <th></th>\n",
       "      <th>EXPOSURES</th>\n",
       "      <th>PEOPLE</th>\n",
       "    </tr>\n",
       "  </thead>\n",
       "  <tbody>\n",
       "    <tr>\n",
       "      <th>0</th>\n",
       "      <td>0</td>\n",
       "      <td>48</td>\n",
       "    </tr>\n",
       "    <tr>\n",
       "      <th>1</th>\n",
       "      <td>1</td>\n",
       "      <td>37</td>\n",
       "    </tr>\n",
       "    <tr>\n",
       "      <th>2</th>\n",
       "      <td>2</td>\n",
       "      <td>30</td>\n",
       "    </tr>\n",
       "    <tr>\n",
       "      <th>3</th>\n",
       "      <td>3</td>\n",
       "      <td>24</td>\n",
       "    </tr>\n",
       "    <tr>\n",
       "      <th>4</th>\n",
       "      <td>4</td>\n",
       "      <td>20</td>\n",
       "    </tr>\n",
       "  </tbody>\n",
       "</table>\n",
       "</div>"
      ],
      "text/plain": [
       "   EXPOSURES  PEOPLE\n",
       "0          0      48\n",
       "1          1      37\n",
       "2          2      30\n",
       "3          3      24\n",
       "4          4      20"
      ]
     },
     "execution_count": 2,
     "metadata": {},
     "output_type": "execute_result"
    }
   ],
   "source": [
    "bbrd = pd.read_csv(\"billboard.csv\")\n",
    "bbrd.head()"
   ]
  },
  {
   "cell_type": "markdown",
   "metadata": {},
   "source": [
    "<hr style=\"border:2px solid black\">\n",
    "<b>Define the funtions needed</b><br>\n",
    "<b>1. the log-likelihood</b>\n",
    "<hr style=\"border:2px solid black\">"
   ]
  },
  {
   "cell_type": "code",
   "execution_count": 3,
   "metadata": {},
   "outputs": [],
   "source": [
    "def log_likelihood_nbd(params, exposures, people):\n",
    "    shape_n, alpha = params\n",
    "    \n",
    "    prob = []\n",
    "    prob_t =[]\n",
    "    #probSum = 0\n",
    "    \n",
    "# need to consider all periods\n",
    "    pds = list(range(0, len(exposures)))\n",
    "    for i in pds:\n",
    "        if i == 0:\n",
    "            prob.append((alpha/(alpha+1))**shape_n)\n",
    "            prob_t.append(people[i]*np.log(prob[i]))\n",
    "            #probSum += prob_t[i]\n",
    "        else:\n",
    "            prob.append(prob[i-1]*((shape_n)+(exposures[i])-1)/(exposures[i]*((alpha)+1)))\n",
    "            prob_t.append(people[i]*np.log(prob[i]))\n",
    "            #probSum += prob_t[i]\n",
    "        \n",
    "    return sum(prob_t)"
   ]
  },
  {
   "cell_type": "markdown",
   "metadata": {},
   "source": [
    "<hr style=\"border:2px solid black\">\n",
    "<b>2. the negative of the log-likelihood</b>\n",
    "<hr style=\"border:2px solid black\">"
   ]
  },
  {
   "cell_type": "code",
   "execution_count": 4,
   "metadata": {},
   "outputs": [],
   "source": [
    "def neg_log_likelihood_nbd(params, exposures, people):\n",
    "    return(-np.sum(log_likelihood_nbd(params, exposures, people)))"
   ]
  },
  {
   "cell_type": "markdown",
   "metadata": {},
   "source": [
    "<hr style=\"border:2px solid black\">\n",
    "<b>Specify the information needed for the optimizer</b>\n",
    "<hr style=\"border:2px solid black\">"
   ]
  },
  {
   "cell_type": "code",
   "execution_count": 5,
   "metadata": {},
   "outputs": [
    {
     "name": "stdout",
     "output_type": "stream",
     "text": [
      "-726.3412025995224\n",
      "neg: 726.3412025995224\n"
     ]
    }
   ],
   "source": [
    "exposures = bbrd.EXPOSURES\n",
    "people = bbrd.PEOPLE\n",
    "params = np.array((1,0.5))\n",
    "print(log_likelihood_nbd(params, exposures, people))\n",
    "print('neg:', neg_log_likelihood_nbd(params, exposures, people))\n"
   ]
  },
  {
   "cell_type": "markdown",
   "metadata": {},
   "source": [
    "<hr style=\"border:2px solid black\">\n",
    "<b>Call the optimizer</b>\n",
    "<hr style=\"border:2px solid black\">"
   ]
  },
  {
   "cell_type": "code",
   "execution_count": 6,
   "metadata": {},
   "outputs": [],
   "source": [
    "result_nbd_final = minimize(\n",
    "    neg_log_likelihood_nbd, \n",
    "    [1, 0.5],  # Inline initial guess\n",
    "    args=(exposures, people), \n",
    "    bounds=((1e-5, None), (1e-5, 1-1e-5))  # Inline bounds\n",
    ")"
   ]
  },
  {
   "cell_type": "markdown",
   "metadata": {},
   "source": [
    "<hr style=\"border:2px solid black\">\n",
    "<b>Review the result</b>\n",
    "<hr style=\"border:2px solid black\">"
   ]
  },
  {
   "cell_type": "code",
   "execution_count": 7,
   "metadata": {},
   "outputs": [
    {
     "data": {
      "text/plain": [
       "      fun: 649.6888274836747\n",
       " hess_inv: <2x2 LbfgsInvHessProduct with dtype=float64>\n",
       "      jac: array([ 6.82121023e-05, -2.04636308e-04])\n",
       "  message: 'CONVERGENCE: REL_REDUCTION_OF_F_<=_FACTR*EPSMCH'\n",
       "     nfev: 39\n",
       "      nit: 10\n",
       "     njev: 13\n",
       "   status: 0\n",
       "  success: True\n",
       "        x: array([0.96925989, 0.21751787])"
      ]
     },
     "execution_count": 7,
     "metadata": {},
     "output_type": "execute_result"
    }
   ],
   "source": [
    "result_nbd_final"
   ]
  },
  {
   "cell_type": "markdown",
   "metadata": {},
   "source": [
    "<hr style=\"border:2px solid black\">\n",
    "<b>Get shape_n and alpha</b>\n",
    "<hr style=\"border:2px solid black\">"
   ]
  },
  {
   "cell_type": "code",
   "execution_count": 8,
   "metadata": {},
   "outputs": [],
   "source": [
    "shape_n = result_nbd_final.x[0]\n",
    "alpha = result_nbd_final.x[1]"
   ]
  },
  {
   "cell_type": "code",
   "execution_count": 9,
   "metadata": {},
   "outputs": [
    {
     "data": {
      "text/plain": [
       "(0.9692598923599475, 0.2175178724561678)"
      ]
     },
     "execution_count": 9,
     "metadata": {},
     "output_type": "execute_result"
    }
   ],
   "source": [
    "shape_n, alpha"
   ]
  },
  {
   "cell_type": "markdown",
   "metadata": {},
   "source": [
    "<b>The estimated parameters for the Negative Binomial Distribution (NBD) model are: shape_n is 0.969 and alpha is 0.217, and with the maximum value of the log-likelihood being approximately -649.689.<b>"
   ]
  },
  {
   "cell_type": "markdown",
   "metadata": {},
   "source": [
    "<hr style=\"border:2px solid black\">\n",
    "<b>Define a function to make predictions</b>\n",
    "<hr style=\"border:2px solid black\">"
   ]
  },
  {
   "cell_type": "code",
   "execution_count": 10,
   "metadata": {},
   "outputs": [],
   "source": [
    "def predict(shape_n, alpha, exposures, predTo, predC):\n",
    "    pds = list(range(0, predTo))\n",
    "    prob=[]\n",
    "    for i in pds:\n",
    "        if i == 0:\n",
    "            predC[i] =(((alpha/(alpha+1))**shape_n)*np.sum(people))\n",
    "            prob.append((alpha/(alpha+1))**shape_n)\n",
    "        else:\n",
    "                predC[i] = (prob[i-1]*((shape_n)+(exposures[i])-1)/(exposures[i]*((alpha)+1)))*np.sum(people)\n",
    "                prob.append(prob[i-1]*((shape_n)+(exposures[i])-1)/(exposures[i]*((alpha)+1)))\n",
    "\n",
    "                \n"
   ]
  },
  {
   "cell_type": "markdown",
   "metadata": {},
   "source": [
    "<hr style=\"border:2px solid black\">\n",
    "<b>Make predictions</b>\n",
    "<hr style=\"border:2px solid black\">"
   ]
  },
  {
   "cell_type": "code",
   "execution_count": 11,
   "metadata": {},
   "outputs": [],
   "source": [
    "predTo = len(bbrd.PEOPLE)"
   ]
  },
  {
   "cell_type": "code",
   "execution_count": 12,
   "metadata": {},
   "outputs": [],
   "source": [
    "predC = np.zeros(predTo)"
   ]
  },
  {
   "cell_type": "code",
   "execution_count": 13,
   "metadata": {},
   "outputs": [],
   "source": [
    "predict(shape_n, alpha, exposures, predTo, predC)"
   ]
  },
  {
   "cell_type": "code",
   "execution_count": 14,
   "metadata": {},
   "outputs": [
    {
     "data": {
      "text/plain": [
       "array([47.09259345, 37.49017825, 30.31902285, 24.64715592, 20.08819946,\n",
       "       16.39786752, 13.39927393, 10.95707264,  8.96493611,  7.33813931,\n",
       "        6.00860321,  4.92133378,  4.03174937,  3.30361952,  2.70744747,\n",
       "        2.21918631,  1.81921163,  1.4914952 ,  1.22293732,  1.00282613,\n",
       "        0.82239842,  0.67448257,  0.55320759,  0.453766  ])"
      ]
     },
     "execution_count": 14,
     "metadata": {},
     "output_type": "execute_result"
    }
   ],
   "source": [
    "predC"
   ]
  },
  {
   "cell_type": "markdown",
   "metadata": {},
   "source": [
    "<b>The predicted number of people with 2 exposures, based on the NBD model estimated is at approximately 30.319. <b>"
   ]
  },
  {
   "cell_type": "markdown",
   "metadata": {},
   "source": [
    "<hr style=\"border:2px solid black\">\n",
    "<b>Plot the actual values and predictions</b>\n",
    "<hr style=\"border:2px solid black\">"
   ]
  },
  {
   "cell_type": "code",
   "execution_count": 15,
   "metadata": {},
   "outputs": [
    {
     "data": {
      "image/png": "[encoded data removed]",
      "text/plain": [
       "<Figure size 720x432 with 1 Axes>"
      ]
     },
     "metadata": {
      "needs_background": "light"
     },
     "output_type": "display_data"
    }
   ],
   "source": [
    "import matplotlib.pyplot as plt\n",
    "\n",
    "# Plot the original and the predicted number of exposures\n",
    "plt.figure(figsize=(10, 6))\n",
    "plt.bar(exposures - 0.2, people, width=0.4, label='Original', align='center')\n",
    "plt.bar(exposures + 0.2, predC, width=0.4, label='Predicted', align='center', color='orange')\n",
    "plt.xlabel('Number of Exposures')\n",
    "plt.ylabel('Number of People')\n",
    "plt.title('Original vs Predicted Number of Billboard Exposures')\n",
    "plt.xticks(exposures)\n",
    "plt.legend()\n",
    "plt.grid(True)\n",
    "plt.show()"
   ]
  }
 ],
 "metadata": {
  "kernelspec": {
   "display_name": "Python 3 (ipykernel)",
   "language": "python",
   "name": "python3"
  },
  "language_info": {
   "codemirror_mode": {
    "name": "ipython",
    "version": 3
   },
   "file_extension": ".py",
   "mimetype": "text/x-python",
   "name": "python",
   "nbconvert_exporter": "python",
   "pygments_lexer": "ipython3",
   "version": "3.11.5"
  }
 },
 "nbformat": 4,
 "nbformat_minor": 2
}
