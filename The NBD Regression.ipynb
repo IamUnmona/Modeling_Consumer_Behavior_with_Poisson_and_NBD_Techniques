{
 "cells": [
  {
   "cell_type": "markdown",
   "id": "26f3fec6",
   "metadata": {},
   "source": [
    "# The NBD Regression\n",
    "##  Estimate all relevant parameters for NBD regression using MLE. Report your code, the estimated parameters and the maximum value of the log-likelihood. Evaluate the NBD regression vis-à-vis the Poisson regression; explain which is better and why. Predict the number of people with 0, ..., 23 exposures based on the NBD regression. Explain how the predicted values are obtained using the case of 2 exposures (show your calculations). Graph the original and predicted numbers of exposures."
   ]
  },
  {
   "cell_type": "code",
   "execution_count": 1,
   "id": "05684b08",
   "metadata": {},
   "outputs": [],
   "source": [
    "import os \n",
    "import pandas as pd\n",
    "import numpy as np\n",
    "import math\n",
    "import matplotlib.pyplot as plt\n",
    "from scipy.stats import poisson\n",
    "from scipy.optimize import minimize\n",
    "from scipy.stats import chi2\n",
    "from scipy.stats import gamma"
   ]
  },
  {
   "cell_type": "markdown",
   "id": "58edddb3",
   "metadata": {},
   "source": [
    "<hr style=\"border:2px solid black\">\n",
    "<b>Read in the data and drop ID</b>\n",
    "<hr style=\"border:2px solid black\">"
   ]
  },
  {
   "cell_type": "code",
   "execution_count": 2,
   "id": "f8f11910",
   "metadata": {},
   "outputs": [],
   "source": [
    "chikak = pd.read_csv(\"khakichinos.csv\")\n",
    "chikak =chikak.drop(columns=['ID'])"
   ]
  },
  {
   "cell_type": "code",
   "execution_count": 3,
   "id": "06c2b778",
   "metadata": {},
   "outputs": [
    {
     "data": {
      "text/html": [
       "<div>\n",
       "<style scoped>\n",
       "    .dataframe tbody tr th:only-of-type {\n",
       "        vertical-align: middle;\n",
       "    }\n",
       "\n",
       "    .dataframe tbody tr th {\n",
       "        vertical-align: top;\n",
       "    }\n",
       "\n",
       "    .dataframe thead th {\n",
       "        text-align: right;\n",
       "    }\n",
       "</style>\n",
       "<table border=\"1\" class=\"dataframe\">\n",
       "  <thead>\n",
       "    <tr style=\"text-align: right;\">\n",
       "      <th></th>\n",
       "      <th>NumberofVisits</th>\n",
       "      <th>LnInc</th>\n",
       "      <th>Sex</th>\n",
       "      <th>LnAge</th>\n",
       "      <th>HHSize</th>\n",
       "    </tr>\n",
       "  </thead>\n",
       "  <tbody>\n",
       "    <tr>\n",
       "      <th>0</th>\n",
       "      <td>0</td>\n",
       "      <td>11.379394</td>\n",
       "      <td>1</td>\n",
       "      <td>3.871201</td>\n",
       "      <td>2</td>\n",
       "    </tr>\n",
       "    <tr>\n",
       "      <th>1</th>\n",
       "      <td>5</td>\n",
       "      <td>9.769956</td>\n",
       "      <td>1</td>\n",
       "      <td>4.043051</td>\n",
       "      <td>1</td>\n",
       "    </tr>\n",
       "    <tr>\n",
       "      <th>2</th>\n",
       "      <td>0</td>\n",
       "      <td>11.082143</td>\n",
       "      <td>0</td>\n",
       "      <td>3.332205</td>\n",
       "      <td>2</td>\n",
       "    </tr>\n",
       "    <tr>\n",
       "      <th>3</th>\n",
       "      <td>0</td>\n",
       "      <td>10.915088</td>\n",
       "      <td>1</td>\n",
       "      <td>3.951244</td>\n",
       "      <td>3</td>\n",
       "    </tr>\n",
       "    <tr>\n",
       "      <th>4</th>\n",
       "      <td>0</td>\n",
       "      <td>10.915088</td>\n",
       "      <td>1</td>\n",
       "      <td>2.833213</td>\n",
       "      <td>3</td>\n",
       "    </tr>\n",
       "    <tr>\n",
       "      <th>...</th>\n",
       "      <td>...</td>\n",
       "      <td>...</td>\n",
       "      <td>...</td>\n",
       "      <td>...</td>\n",
       "      <td>...</td>\n",
       "    </tr>\n",
       "    <tr>\n",
       "      <th>2723</th>\n",
       "      <td>0</td>\n",
       "      <td>9.528794</td>\n",
       "      <td>1</td>\n",
       "      <td>2.944439</td>\n",
       "      <td>2</td>\n",
       "    </tr>\n",
       "    <tr>\n",
       "      <th>2724</th>\n",
       "      <td>0</td>\n",
       "      <td>11.379394</td>\n",
       "      <td>0</td>\n",
       "      <td>3.970292</td>\n",
       "      <td>2</td>\n",
       "    </tr>\n",
       "    <tr>\n",
       "      <th>2725</th>\n",
       "      <td>0</td>\n",
       "      <td>11.191342</td>\n",
       "      <td>1</td>\n",
       "      <td>3.044522</td>\n",
       "      <td>3</td>\n",
       "    </tr>\n",
       "    <tr>\n",
       "      <th>2726</th>\n",
       "      <td>0</td>\n",
       "      <td>10.532096</td>\n",
       "      <td>1</td>\n",
       "      <td>2.890372</td>\n",
       "      <td>4</td>\n",
       "    </tr>\n",
       "    <tr>\n",
       "      <th>2727</th>\n",
       "      <td>0</td>\n",
       "      <td>11.736069</td>\n",
       "      <td>1</td>\n",
       "      <td>2.833213</td>\n",
       "      <td>3</td>\n",
       "    </tr>\n",
       "  </tbody>\n",
       "</table>\n",
       "<p>2728 rows × 5 columns</p>\n",
       "</div>"
      ],
      "text/plain": [
       "      NumberofVisits      LnInc  Sex     LnAge  HHSize\n",
       "0                  0  11.379394    1  3.871201       2\n",
       "1                  5   9.769956    1  4.043051       1\n",
       "2                  0  11.082143    0  3.332205       2\n",
       "3                  0  10.915088    1  3.951244       3\n",
       "4                  0  10.915088    1  2.833213       3\n",
       "...              ...        ...  ...       ...     ...\n",
       "2723               0   9.528794    1  2.944439       2\n",
       "2724               0  11.379394    0  3.970292       2\n",
       "2725               0  11.191342    1  3.044522       3\n",
       "2726               0  10.532096    1  2.890372       4\n",
       "2727               0  11.736069    1  2.833213       3\n",
       "\n",
       "[2728 rows x 5 columns]"
      ]
     },
     "execution_count": 3,
     "metadata": {},
     "output_type": "execute_result"
    }
   ],
   "source": [
    "chikak"
   ]
  },
  {
   "cell_type": "markdown",
   "id": "9804edb5",
   "metadata": {},
   "source": [
    "<hr style=\"border:2px solid black\">\n",
    "<b>Define the funtions needed</b><br>\n",
    "<b>1. the log-likelihood</b>\n",
    "<hr style=\"border:2px solid black\">"
   ]
  },
  {
   "cell_type": "code",
   "execution_count": 4,
   "id": "0a4e0223",
   "metadata": {},
   "outputs": [],
   "source": [
    "def nbdreg_p (params, noVisits, LcInc, Sex, lnAge, HHSize):\n",
    "    n, alpha, b1, b2, b3, b4 = params\n",
    "    \n",
    "    exp_b= []\n",
    "    p1 = []\n",
    "    p2 = []\n",
    "    p3 = []\n",
    "    prob = []\n",
    "    ln_prob = []\n",
    "    \n",
    "    pds = list(range(0, len(noVisits)))\n",
    "    for i in pds:\n",
    "        exp_b.append(np.exp((LcInc[i]*b1)+(Sex[i]*b2)+(lnAge[i]* b3) + (HHSize[i]*b4)))\n",
    "        p1.append(((math.gamma(n+noVisits[i]))/(math.gamma(n)*math.factorial(noVisits[i]))))\n",
    "        p2.append((alpha/(alpha+exp_b[i]))**n)\n",
    "        p3.append((exp_b[i]/(alpha+exp_b[i]))**noVisits[i])\n",
    "        prob.append(p1[i]*p2[i]*p3[i])\n",
    "        ln_prob.append(np.log(prob[i]))\n",
    "\n",
    "    return sum(ln_prob)\n",
    "            "
   ]
  },
  {
   "cell_type": "markdown",
   "id": "eae5ef87",
   "metadata": {},
   "source": [
    "<hr style=\"border:2px solid black\">\n",
    "<b>2. the negative of the log-likelihood</b>\n",
    "<hr style=\"border:2px solid black\">"
   ]
  },
  {
   "cell_type": "code",
   "execution_count": 5,
   "id": "365397be",
   "metadata": {},
   "outputs": [],
   "source": [
    "def n_nbdreg_p (params, noVisits, LcInc, Sex, lnAge, HHSize):\n",
    "    return(-np.sum(nbdreg_p (params, noVisits, LcInc, Sex, lnAge, HHSize)))"
   ]
  },
  {
   "cell_type": "markdown",
   "id": "d5d64813",
   "metadata": {},
   "source": [
    "<hr style=\"border:2px solid black\">\n",
    "<b>Specify the information needed for the optimizer</b>\n",
    "<hr style=\"border:2px solid black\">"
   ]
  },
  {
   "cell_type": "code",
   "execution_count": 6,
   "id": "50303d1e",
   "metadata": {},
   "outputs": [],
   "source": [
    "noVisits = chikak.NumberofVisits\n",
    "LcInc = chikak.LnInc\n",
    "Sex = chikak.Sex\n",
    "lnAge = chikak.LnAge\n",
    "HHSize= chikak.HHSize\n",
    "params = np.array((0.1,1,0.01,0.00,0.5,0.00))"
   ]
  },
  {
   "cell_type": "code",
   "execution_count": 7,
   "id": "f231eb60",
   "metadata": {},
   "outputs": [
    {
     "data": {
      "text/plain": [
       "2923.201932899652"
      ]
     },
     "execution_count": 7,
     "metadata": {},
     "output_type": "execute_result"
    }
   ],
   "source": [
    "n_nbdreg_p(params,noVisits, LcInc, Sex, lnAge, HHSize)"
   ]
  },
  {
   "cell_type": "markdown",
   "id": "5b56ae47",
   "metadata": {},
   "source": [
    "<hr style=\"border:2px solid black\">\n",
    "<b>Call the optimizer</b>\n",
    "<hr style=\"border:2px solid black\">"
   ]
  },
  {
   "cell_type": "code",
   "execution_count": 8,
   "id": "2cc02f83",
   "metadata": {},
   "outputs": [],
   "source": [
    "res_nbd = minimize(\n",
    "    n_nbdreg_p,\n",
    "    params,\n",
    "    tol=1e-10,\n",
    "    #options={'ftol' : 1e-8},\n",
    "    #bounds=[(None, None), (None, None), (None, None), (None, None),(None, None)],\n",
    "    args = (noVisits, LcInc, Sex, lnAge, HHSize)\n",
    ")"
   ]
  },
  {
   "cell_type": "markdown",
   "id": "e6e4cecb",
   "metadata": {},
   "source": [
    "<hr style=\"border:2px solid black\">\n",
    "<b>Review the result</b>\n",
    "<hr style=\"border:2px solid black\">"
   ]
  },
  {
   "cell_type": "code",
   "execution_count": 9,
   "id": "f85795f7",
   "metadata": {},
   "outputs": [
    {
     "data": {
      "text/plain": [
       "      fun: 2888.966113802933\n",
       " hess_inv: array([[ 3.94183145e-05,  1.69598045e-05, -9.15199427e-06,\n",
       "         6.07462693e-05, -5.73982568e-05, -3.40454175e-05],\n",
       "       [ 1.69598045e-05,  2.89703186e-04,  1.41971787e-04,\n",
       "         2.15615618e-04, -2.81772884e-04, -2.13391326e-04],\n",
       "       [-9.15199427e-06,  1.41971787e-04,  9.11149997e-05,\n",
       "         6.79071719e-05, -1.23967016e-04, -9.91346790e-05],\n",
       "       [ 6.07462693e-05,  2.15615618e-04,  6.79071719e-05,\n",
       "         5.18087477e-04, -3.62769058e-04, -3.14445798e-04],\n",
       "       [-5.73982568e-05, -2.81772884e-04, -1.23967016e-04,\n",
       "        -3.62769058e-04,  3.88942276e-04,  2.89663786e-04],\n",
       "       [-3.40454175e-05, -2.13391326e-04, -9.91346790e-05,\n",
       "        -3.14445798e-04,  2.89663786e-04,  3.18088432e-04]])\n",
       "      jac: array([ 5.49316406e-04, -3.05175781e-04, -5.49316406e-04, -3.05175781e-05,\n",
       "       -7.32421875e-04, -4.88281250e-04])\n",
       "  message: 'Desired error not necessarily achieved due to precision loss.'\n",
       "     nfev: 896\n",
       "      nit: 55\n",
       "     njev: 128\n",
       "   status: 2\n",
       "  success: False\n",
       "        x: array([ 0.13875168,  8.20308285,  0.07344033, -0.00926844,  0.90222827,\n",
       "       -0.02431648])"
      ]
     },
     "execution_count": 9,
     "metadata": {},
     "output_type": "execute_result"
    }
   ],
   "source": [
    "res_nbd"
   ]
  },
  {
   "cell_type": "markdown",
   "id": "8ece63e9",
   "metadata": {},
   "source": [
    "<hr style=\"border:2px solid black\">\n",
    "<b>Get shape_n, alpha, beta 1, beta 2, beta 3, and beta 4</b>\n",
    "<hr style=\"border:2px solid black\">"
   ]
  },
  {
   "cell_type": "code",
   "execution_count": 10,
   "id": "07009269",
   "metadata": {},
   "outputs": [],
   "source": [
    "shape_n = res_nbd.x[0]\n",
    "alpha = res_nbd.x[1]\n",
    "b1 = res_nbd.x[2]\n",
    "b2= res_nbd.x[3]\n",
    "b3= res_nbd.x[4]\n",
    "b4= res_nbd.x[5]"
   ]
  },
  {
   "cell_type": "code",
   "execution_count": 11,
   "id": "eb42d4f6",
   "metadata": {},
   "outputs": [
    {
     "data": {
      "text/plain": [
       "(0.13875168024785928,\n",
       " 8.203082850780396,\n",
       " 0.07344033211144213,\n",
       " -0.009268436053055173,\n",
       " 0.9022282652028637,\n",
       " -0.024316479519792503)"
      ]
     },
     "execution_count": 11,
     "metadata": {},
     "output_type": "execute_result"
    }
   ],
   "source": [
    "shape_n, alpha, b1, b2, b3,b4"
   ]
  },
  {
   "cell_type": "markdown",
   "id": "7c806275",
   "metadata": {},
   "source": [
    "<b>The estimated parameters for Poisson model: shape_n = 0.13875, alpha = 8.2030, beta 1(Lnlnc) = 0.0734, beta 2(Sex) = -0.0092, beta 3(LnAge) = 0.9022, and beta 4(HHSize) =-0.0243 and with the maximum value of the log-likelihood being approximately -2888.966<b>"
   ]
  },
  {
   "cell_type": "markdown",
   "id": "022072a1",
   "metadata": {},
   "source": [
    "<hr style=\"border:2px solid black\">\n",
    "<b>Get total numbers of visits</b>\n",
    "<hr style=\"border:2px solid black\">"
   ]
  },
  {
   "cell_type": "code",
   "execution_count": 12,
   "id": "5d281bd2",
   "metadata": {},
   "outputs": [],
   "source": [
    "total_vis = chikak.NumberofVisits.sum()"
   ]
  },
  {
   "cell_type": "markdown",
   "id": "5f545f30",
   "metadata": {},
   "source": [
    "<hr style=\"border:2px solid black\">\n",
    "<b>Define a function to make predictions</b>\n",
    "<hr style=\"border:2px solid black\">"
   ]
  },
  {
   "cell_type": "code",
   "execution_count": 13,
   "id": "29159d43",
   "metadata": {},
   "outputs": [],
   "source": [
    "noVisits = chikak.NumberofVisits\n",
    "LcInc = chikak.LnInc\n",
    "Sex = chikak.Sex\n",
    "lnAge = chikak.LnAge\n",
    "HHSize= chikak.HHSize"
   ]
  },
  {
   "cell_type": "code",
   "execution_count": 14,
   "id": "e12afe7b",
   "metadata": {},
   "outputs": [],
   "source": [
    "    exp_b= {}\n",
    "    p1 = {}\n",
    "    p2 = {}\n",
    "    p3 = {}\n",
    "    prob = {}\n",
    "    ln_prob = {}\n",
    "    \n",
    "    pds = list(range(0, len(noVisits)))\n",
    "    for i in pds:\n",
    "        exp_b[i] =(np.exp((LcInc[i]*b1)+(Sex[i]*b2)+(lnAge[i]* b3) + (HHSize[i]*b4)))\n",
    "        p1[i] = (((math.gamma(shape_n+noVisits[i]))/(math.gamma(shape_n)*math.factorial(noVisits[i]))))\n",
    "        p2[i]=((alpha/(alpha+exp_b[i]))**shape_n)\n",
    "        p3[i] = ((exp_b[i]/(alpha+exp_b[i]))**noVisits[i])\n",
    "        prob[i] = (p1[i]*p2[i]*p3[i])\n",
    "        ln_prob[i]=(np.log(prob[i]))\n"
   ]
  },
  {
   "cell_type": "code",
   "execution_count": 15,
   "id": "3c224ac1",
   "metadata": {},
   "outputs": [],
   "source": [
    "chikak['exp_b'] = pd.Series(exp_b)\n",
    "chikak['p1'] = pd.Series(p1)\n",
    "chikak['p2'] = pd.Series(p2)\n",
    "chikak['p3'] = pd.Series(p3)\n",
    "chikak['prob'] = pd.Series(prob)\n",
    "chikak['ln_prob'] = pd.Series(ln_prob)"
   ]
  },
  {
   "cell_type": "markdown",
   "id": "d33d720c",
   "metadata": {},
   "source": [
    "<b>Make predictions<b>"
   ]
  },
  {
   "cell_type": "code",
   "execution_count": 16,
   "id": "618725f5",
   "metadata": {},
   "outputs": [
    {
     "data": {
      "text/html": [
       "<div>\n",
       "<style scoped>\n",
       "    .dataframe tbody tr th:only-of-type {\n",
       "        vertical-align: middle;\n",
       "    }\n",
       "\n",
       "    .dataframe tbody tr th {\n",
       "        vertical-align: top;\n",
       "    }\n",
       "\n",
       "    .dataframe thead th {\n",
       "        text-align: right;\n",
       "    }\n",
       "</style>\n",
       "<table border=\"1\" class=\"dataframe\">\n",
       "  <thead>\n",
       "    <tr style=\"text-align: right;\">\n",
       "      <th></th>\n",
       "      <th>NumberofVisits</th>\n",
       "      <th>LnInc</th>\n",
       "      <th>Sex</th>\n",
       "      <th>LnAge</th>\n",
       "      <th>HHSize</th>\n",
       "      <th>exp_b</th>\n",
       "      <th>p1</th>\n",
       "      <th>p2</th>\n",
       "      <th>p3</th>\n",
       "      <th>prob</th>\n",
       "      <th>ln_prob</th>\n",
       "    </tr>\n",
       "  </thead>\n",
       "  <tbody>\n",
       "    <tr>\n",
       "      <th>0</th>\n",
       "      <td>0</td>\n",
       "      <td>11.379394</td>\n",
       "      <td>1</td>\n",
       "      <td>3.871201</td>\n",
       "      <td>2</td>\n",
       "      <td>71.558268</td>\n",
       "      <td>1.000000</td>\n",
       "      <td>0.729355</td>\n",
       "      <td>1.000000</td>\n",
       "      <td>0.729355</td>\n",
       "      <td>-0.315595</td>\n",
       "    </tr>\n",
       "    <tr>\n",
       "      <th>1</th>\n",
       "      <td>5</td>\n",
       "      <td>9.769956</td>\n",
       "      <td>1</td>\n",
       "      <td>4.043051</td>\n",
       "      <td>1</td>\n",
       "      <td>76.071907</td>\n",
       "      <td>0.036582</td>\n",
       "      <td>0.723806</td>\n",
       "      <td>0.599278</td>\n",
       "      <td>0.015868</td>\n",
       "      <td>-4.143450</td>\n",
       "    </tr>\n",
       "    <tr>\n",
       "      <th>2</th>\n",
       "      <td>0</td>\n",
       "      <td>11.082143</td>\n",
       "      <td>0</td>\n",
       "      <td>3.332205</td>\n",
       "      <td>2</td>\n",
       "      <td>43.451804</td>\n",
       "      <td>1.000000</td>\n",
       "      <td>0.774674</td>\n",
       "      <td>1.000000</td>\n",
       "      <td>0.774674</td>\n",
       "      <td>-0.255313</td>\n",
       "    </tr>\n",
       "    <tr>\n",
       "      <th>3</th>\n",
       "      <td>0</td>\n",
       "      <td>10.915088</td>\n",
       "      <td>1</td>\n",
       "      <td>3.951244</td>\n",
       "      <td>3</td>\n",
       "      <td>72.552730</td>\n",
       "      <td>1.000000</td>\n",
       "      <td>0.728102</td>\n",
       "      <td>1.000000</td>\n",
       "      <td>0.728102</td>\n",
       "      <td>-0.317314</td>\n",
       "    </tr>\n",
       "    <tr>\n",
       "      <th>4</th>\n",
       "      <td>0</td>\n",
       "      <td>10.915088</td>\n",
       "      <td>1</td>\n",
       "      <td>2.833213</td>\n",
       "      <td>3</td>\n",
       "      <td>26.458964</td>\n",
       "      <td>1.000000</td>\n",
       "      <td>0.818764</td>\n",
       "      <td>1.000000</td>\n",
       "      <td>0.818764</td>\n",
       "      <td>-0.199960</td>\n",
       "    </tr>\n",
       "    <tr>\n",
       "      <th>...</th>\n",
       "      <td>...</td>\n",
       "      <td>...</td>\n",
       "      <td>...</td>\n",
       "      <td>...</td>\n",
       "      <td>...</td>\n",
       "      <td>...</td>\n",
       "      <td>...</td>\n",
       "      <td>...</td>\n",
       "      <td>...</td>\n",
       "      <td>...</td>\n",
       "      <td>...</td>\n",
       "    </tr>\n",
       "    <tr>\n",
       "      <th>2723</th>\n",
       "      <td>0</td>\n",
       "      <td>9.528794</td>\n",
       "      <td>1</td>\n",
       "      <td>2.944439</td>\n",
       "      <td>2</td>\n",
       "      <td>27.070714</td>\n",
       "      <td>1.000000</td>\n",
       "      <td>0.816778</td>\n",
       "      <td>1.000000</td>\n",
       "      <td>0.816778</td>\n",
       "      <td>-0.202387</td>\n",
       "    </tr>\n",
       "    <tr>\n",
       "      <th>2724</th>\n",
       "      <td>0</td>\n",
       "      <td>11.379394</td>\n",
       "      <td>0</td>\n",
       "      <td>3.970292</td>\n",
       "      <td>2</td>\n",
       "      <td>78.979088</td>\n",
       "      <td>1.000000</td>\n",
       "      <td>0.720408</td>\n",
       "      <td>1.000000</td>\n",
       "      <td>0.720408</td>\n",
       "      <td>-0.327938</td>\n",
       "    </tr>\n",
       "    <tr>\n",
       "      <th>2725</th>\n",
       "      <td>0</td>\n",
       "      <td>11.191342</td>\n",
       "      <td>1</td>\n",
       "      <td>3.044522</td>\n",
       "      <td>3</td>\n",
       "      <td>32.672449</td>\n",
       "      <td>1.000000</td>\n",
       "      <td>0.800244</td>\n",
       "      <td>1.000000</td>\n",
       "      <td>0.800244</td>\n",
       "      <td>-0.222838</td>\n",
       "    </tr>\n",
       "    <tr>\n",
       "      <th>2726</th>\n",
       "      <td>0</td>\n",
       "      <td>10.532096</td>\n",
       "      <td>1</td>\n",
       "      <td>2.890372</td>\n",
       "      <td>4</td>\n",
       "      <td>26.435859</td>\n",
       "      <td>1.000000</td>\n",
       "      <td>0.818839</td>\n",
       "      <td>1.000000</td>\n",
       "      <td>0.818839</td>\n",
       "      <td>-0.199867</td>\n",
       "    </tr>\n",
       "    <tr>\n",
       "      <th>2727</th>\n",
       "      <td>0</td>\n",
       "      <td>11.736069</td>\n",
       "      <td>1</td>\n",
       "      <td>2.833213</td>\n",
       "      <td>3</td>\n",
       "      <td>28.103330</td>\n",
       "      <td>1.000000</td>\n",
       "      <td>0.813515</td>\n",
       "      <td>1.000000</td>\n",
       "      <td>0.813515</td>\n",
       "      <td>-0.206391</td>\n",
       "    </tr>\n",
       "  </tbody>\n",
       "</table>\n",
       "<p>2728 rows × 11 columns</p>\n",
       "</div>"
      ],
      "text/plain": [
       "      NumberofVisits      LnInc  Sex     LnAge  HHSize      exp_b        p1  \\\n",
       "0                  0  11.379394    1  3.871201       2  71.558268  1.000000   \n",
       "1                  5   9.769956    1  4.043051       1  76.071907  0.036582   \n",
       "2                  0  11.082143    0  3.332205       2  43.451804  1.000000   \n",
       "3                  0  10.915088    1  3.951244       3  72.552730  1.000000   \n",
       "4                  0  10.915088    1  2.833213       3  26.458964  1.000000   \n",
       "...              ...        ...  ...       ...     ...        ...       ...   \n",
       "2723               0   9.528794    1  2.944439       2  27.070714  1.000000   \n",
       "2724               0  11.379394    0  3.970292       2  78.979088  1.000000   \n",
       "2725               0  11.191342    1  3.044522       3  32.672449  1.000000   \n",
       "2726               0  10.532096    1  2.890372       4  26.435859  1.000000   \n",
       "2727               0  11.736069    1  2.833213       3  28.103330  1.000000   \n",
       "\n",
       "            p2        p3      prob   ln_prob  \n",
       "0     0.729355  1.000000  0.729355 -0.315595  \n",
       "1     0.723806  0.599278  0.015868 -4.143450  \n",
       "2     0.774674  1.000000  0.774674 -0.255313  \n",
       "3     0.728102  1.000000  0.728102 -0.317314  \n",
       "4     0.818764  1.000000  0.818764 -0.199960  \n",
       "...        ...       ...       ...       ...  \n",
       "2723  0.816778  1.000000  0.816778 -0.202387  \n",
       "2724  0.720408  1.000000  0.720408 -0.327938  \n",
       "2725  0.800244  1.000000  0.800244 -0.222838  \n",
       "2726  0.818839  1.000000  0.818839 -0.199867  \n",
       "2727  0.813515  1.000000  0.813515 -0.206391  \n",
       "\n",
       "[2728 rows x 11 columns]"
      ]
     },
     "execution_count": 16,
     "metadata": {},
     "output_type": "execute_result"
    }
   ],
   "source": [
    "chikak"
   ]
  },
  {
   "cell_type": "code",
   "execution_count": 17,
   "id": "d542ab6d",
   "metadata": {},
   "outputs": [
    {
     "name": "stderr",
     "output_type": "stream",
     "text": [
      "C:\\Users\\Phuc Le\\Anaconda3\\lib\\site-packages\\ipykernel_launcher.py:10: RuntimeWarning: invalid value encountered in double_scalars\n",
      "  # Remove the CWD from sys.path while we load stuff.\n",
      "C:\\Users\\Phuc Le\\Anaconda3\\lib\\site-packages\\ipykernel_launcher.py:10: RuntimeWarning: invalid value encountered in double_scalars\n",
      "  # Remove the CWD from sys.path while we load stuff.\n"
     ]
    }
   ],
   "source": [
    "predicted_counts = {}\n",
    "prob_2 ={}\n",
    "p2= {}\n",
    "p3 = {}\n",
    "predict ={}\n",
    "for visits in range(0, 23):\n",
    "        prob_2[visits] = chikak.loc[ chikak['NumberofVisits'] == visits, 'prob'].sum()\n",
    "        predicted_counts[visits] = prob[visits].sum()\n",
    "        p2[visits] = chikak.loc[ chikak['NumberofVisits'] == visits, 'NumberofVisits'].count()\n",
    "        p3[visits] = prob_2[visits]/p2[visits]\n",
    "        predict[visits] = p3[visits]*total_vis"
   ]
  },
  {
   "cell_type": "code",
   "execution_count": 18,
   "id": "7eb18845",
   "metadata": {},
   "outputs": [
    {
     "data": {
      "text/plain": [
       "{0: 1965.449704934042,\n",
       " 1: 233.15965697294752,\n",
       " 2: 116.71027205906529,\n",
       " 3: 73.30657669448934,\n",
       " 4: 50.81567240652887,\n",
       " 5: 37.929209691315606,\n",
       " 6: 28.266295213885424,\n",
       " 7: 23.387323670671844,\n",
       " 8: 16.529623362679434,\n",
       " 9: 13.442489386383313,\n",
       " 10: 10.464507380770307,\n",
       " 11: 9.802957400116716,\n",
       " 12: 6.421738184143002,\n",
       " 13: nan,\n",
       " 14: 5.062817318122562,\n",
       " 15: 4.148365713518263,\n",
       " 16: 3.3725419071850244,\n",
       " 17: 2.411537514865722,\n",
       " 18: 1.1602319846425642,\n",
       " 19: nan,\n",
       " 20: 1.3755738537897007,\n",
       " 21: 1.45969207685334,\n",
       " 22: 0.759104462474601}"
      ]
     },
     "execution_count": 18,
     "metadata": {},
     "output_type": "execute_result"
    }
   ],
   "source": [
    "predict"
   ]
  },
  {
   "cell_type": "markdown",
   "id": "c283b93f",
   "metadata": {},
   "source": [
    "<b>The predicted values are obtained using the case of 2 exposures is 116.<b>"
   ]
  },
  {
   "cell_type": "code",
   "execution_count": 19,
   "id": "cd9a4270",
   "metadata": {},
   "outputs": [],
   "source": [
    "plot_data = pd.DataFrame({\n",
    "    'Original Counts': pd.Series(p2),\n",
    "    'Predicted Counts': pd.Series(predict)\n",
    "})"
   ]
  },
  {
   "cell_type": "markdown",
   "id": "df7766d7",
   "metadata": {},
   "source": [
    "<b><hr style=\"border:2px solid black\">\n",
    "<b>Plot the actual values and predictions</b>\n",
    "<hr style=\"border:2px solid black\"><b>"
   ]
  },
  {
   "cell_type": "code",
   "execution_count": 20,
   "id": "33a33293",
   "metadata": {},
   "outputs": [
    {
     "data": {
      "image/png": "[encoded data removed]",
      "text/plain": [
       "<Figure size 1080x576 with 1 Axes>"
      ]
     },
     "metadata": {
      "needs_background": "light"
     },
     "output_type": "display_data"
    }
   ],
   "source": [
    "import matplotlib.pyplot as plt\n",
    "plot_data.plot(kind='bar', stacked=False,figsize=(15, 8))\n",
    "plt.xlabel('Number of Visits')\n",
    "plt.ylabel('Number of Visitors')\n",
    "plt.title('Original vs Predicted Counts')\n",
    "plt.legend()\n",
    "plt.grid(True)\n",
    "plt.show()"
   ]
  },
  {
   "cell_type": "markdown",
   "id": "a9722aea",
   "metadata": {},
   "source": [
    "<b>The graph above displays the original versus the predicted counts across different exposure levels. The original counts are shown in blue, while the predicted counts, based on the NBD Regression with the estimated parameter, are shown in orange.<b>"
   ]
  }
 ],
 "metadata": {
  "kernelspec": {
   "display_name": "Python 3 (ipykernel)",
   "language": "python",
   "name": "python3"
  },
  "language_info": {
   "codemirror_mode": {
    "name": "ipython",
    "version": 3
   },
   "file_extension": ".py",
   "mimetype": "text/x-python",
   "name": "python",
   "nbconvert_exporter": "python",
   "pygments_lexer": "ipython3",
   "version": "3.11.5"
  }
 },
 "nbformat": 4,
 "nbformat_minor": 5
}
