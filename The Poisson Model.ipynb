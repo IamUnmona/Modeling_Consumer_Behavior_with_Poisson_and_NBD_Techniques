{
 "cells": [
  {
   "cell_type": "markdown",
   "metadata": {},
   "source": [
    "# 1. The Poisson Model\n",
    "## The associated data is in the file billboard.csv. Write code to estimate the parameters of the Poisson model using maximum likelihood estimation (MLE). Report your code, the estimated parameters and the maximum value of the log-likelihood. Predict the number of people with 0, ..., 23 exposures based on the Poisson model. Explain how the predicted values are obtained using the case of 2 exposures (show your calculations). Graph the original and predicted number of exposures (number of people on the y-axis and the numbers of exposures on the x-axis).\n"
   ]
  },
  {
   "cell_type": "code",
   "execution_count": 1,
   "metadata": {},
   "outputs": [],
   "source": [
    "import os \n",
    "import pandas as pd\n",
    "import numpy as np\n",
    "import matplotlib.pyplot as plt\n",
    "from scipy.stats import poisson\n",
    "from scipy.optimize import minimize"
   ]
  },
  {
   "cell_type": "markdown",
   "metadata": {},
   "source": [
    "<hr style=\"border:2px solid black\">\n",
    "<b>Read in the data</b>\n",
    "<hr style=\"border:2px solid black\">"
   ]
  },
  {
   "cell_type": "code",
   "execution_count": 2,
   "metadata": {},
   "outputs": [
    {
     "data": {
      "text/html": [
       "<div>\n",
       "<style scoped>\n",
       "    .dataframe tbody tr th:only-of-type {\n",
       "        vertical-align: middle;\n",
       "    }\n",
       "\n",
       "    .dataframe tbody tr th {\n",
       "        vertical-align: top;\n",
       "    }\n",
       "\n",
       "    .dataframe thead th {\n",
       "        text-align: right;\n",
       "    }\n",
       "</style>\n",
       "<table border=\"1\" class=\"dataframe\">\n",
       "  <thead>\n",
       "    <tr style=\"text-align: right;\">\n",
       "      <th></th>\n",
       "      <th>EXPOSURES</th>\n",
       "      <th>PEOPLE</th>\n",
       "    </tr>\n",
       "  </thead>\n",
       "  <tbody>\n",
       "    <tr>\n",
       "      <th>0</th>\n",
       "      <td>0</td>\n",
       "      <td>48</td>\n",
       "    </tr>\n",
       "    <tr>\n",
       "      <th>1</th>\n",
       "      <td>1</td>\n",
       "      <td>37</td>\n",
       "    </tr>\n",
       "    <tr>\n",
       "      <th>2</th>\n",
       "      <td>2</td>\n",
       "      <td>30</td>\n",
       "    </tr>\n",
       "    <tr>\n",
       "      <th>3</th>\n",
       "      <td>3</td>\n",
       "      <td>24</td>\n",
       "    </tr>\n",
       "    <tr>\n",
       "      <th>4</th>\n",
       "      <td>4</td>\n",
       "      <td>20</td>\n",
       "    </tr>\n",
       "  </tbody>\n",
       "</table>\n",
       "</div>"
      ],
      "text/plain": [
       "   EXPOSURES  PEOPLE\n",
       "0          0      48\n",
       "1          1      37\n",
       "2          2      30\n",
       "3          3      24\n",
       "4          4      20"
      ]
     },
     "execution_count": 2,
     "metadata": {},
     "output_type": "execute_result"
    }
   ],
   "source": [
    "bbrd = pd.read_csv(\"billboard.csv\")\n",
    "bbrd.head()"
   ]
  },
  {
   "cell_type": "markdown",
   "metadata": {},
   "source": [
    "<hr style=\"border:2px solid black\">\n",
    "<b>Define the funtions needed</b><br>\n",
    "<b>1. the log-likelihood</b>\n",
    "<hr style=\"border:2px solid black\">"
   ]
  },
  {
   "cell_type": "code",
   "execution_count": 3,
   "metadata": {},
   "outputs": [],
   "source": [
    "def ll_poisson(params, exposures, people):\n",
    "    lam = params\n",
    "    \n",
    "    prob = []\n",
    "    prob_t =[]\n",
    "    #probSum = 0\n",
    "    \n",
    "# need to consider all periods\n",
    "    pds = list(range(0, len(exposures)))\n",
    "    for i in pds:\n",
    "            prob.append(poisson.pmf(exposures[i],lam))\n",
    "            prob_t.append(people[i]*np.log(prob[i]))\n",
    "        \n",
    "    return sum(prob_t)"
   ]
  },
  {
   "cell_type": "markdown",
   "metadata": {},
   "source": [
    "<hr style=\"border:2px solid black\">\n",
    "<b>2. the negative of the log-likelihood</b>\n",
    "<hr style=\"border:2px solid black\">"
   ]
  },
  {
   "cell_type": "code",
   "execution_count": 4,
   "metadata": {},
   "outputs": [],
   "source": [
    "def neg_ll_poisson(params, exposures, people):\n",
    "    return(-np.sum(ll_poisson(params, exposures, people)))"
   ]
  },
  {
   "cell_type": "markdown",
   "metadata": {},
   "source": [
    "<hr style=\"border:2px solid black\">\n",
    "<b>Specify the information needed for the optimizer</b>\n",
    "<hr style=\"border:2px solid black\">"
   ]
  },
  {
   "cell_type": "code",
   "execution_count": 5,
   "metadata": {},
   "outputs": [
    {
     "name": "stdout",
     "output_type": "stream",
     "text": [
      "11.5 -1633.8654592502294\n",
      "neg: 1633.8654592502294\n"
     ]
    }
   ],
   "source": [
    "exposures = bbrd.EXPOSURES\n",
    "people = bbrd.PEOPLE\n",
    "params = np.mean(exposures)\n",
    "print(params, ll_poisson(params, exposures, people))\n",
    "print('neg:', neg_ll_poisson(params, exposures, people))\n"
   ]
  },
  {
   "cell_type": "markdown",
   "metadata": {},
   "source": [
    "<hr style=\"border:2px solid black\">\n",
    "<b>Call the optimizer</b>\n",
    "<hr style=\"border:2px solid black\">"
   ]
  },
  {
   "cell_type": "code",
   "execution_count": 6,
   "metadata": {},
   "outputs": [],
   "source": [
    "result_poisson = minimize(\n",
    "    neg_ll_poisson, \n",
    "    params,\n",
    "    args=(exposures, people))"
   ]
  },
  {
   "cell_type": "markdown",
   "metadata": {},
   "source": [
    "<hr style=\"border:2px solid black\">\n",
    "<b>Review the result</b>\n",
    "<hr style=\"border:2px solid black\">"
   ]
  },
  {
   "cell_type": "code",
   "execution_count": 7,
   "metadata": {},
   "outputs": [
    {
     "data": {
      "text/plain": [
       "      fun: 929.0438827272927\n",
       " hess_inv: array([[0.0177191]])\n",
       "      jac: array([7.62939453e-06])\n",
       "  message: 'Optimization terminated successfully.'\n",
       "     nfev: 20\n",
       "      nit: 7\n",
       "     njev: 10\n",
       "   status: 0\n",
       "  success: True\n",
       "        x: array([4.45600014])"
      ]
     },
     "execution_count": 7,
     "metadata": {},
     "output_type": "execute_result"
    }
   ],
   "source": [
    "result_poisson"
   ]
  },
  {
   "cell_type": "markdown",
   "metadata": {},
   "source": [
    "<b>The estimated parameter (λ) for the Poisson model is approximately 4.456, and the maximum value of the log-likelihood is approximately -929.044.<b>"
   ]
  },
  {
   "cell_type": "markdown",
   "metadata": {},
   "source": [
    "<hr style=\"border:2px solid black\">\n",
    "<b>Get lambda</b>\n",
    "<hr style=\"border:2px solid black\">"
   ]
  },
  {
   "cell_type": "code",
   "execution_count": 8,
   "metadata": {},
   "outputs": [],
   "source": [
    "lamb = result_poisson.x[0]"
   ]
  },
  {
   "cell_type": "code",
   "execution_count": 9,
   "metadata": {},
   "outputs": [
    {
     "data": {
      "text/plain": [
       "4.45600013835675"
      ]
     },
     "execution_count": 9,
     "metadata": {},
     "output_type": "execute_result"
    }
   ],
   "source": [
    "lamb"
   ]
  },
  {
   "cell_type": "markdown",
   "metadata": {},
   "source": [
    "<hr style=\"border:2px solid black\">\n",
    "<b>Define a function to make predictions</b>\n",
    "<hr style=\"border:2px solid black\">"
   ]
  },
  {
   "cell_type": "code",
   "execution_count": 10,
   "metadata": {},
   "outputs": [],
   "source": [
    "#predTo: number of periods predictions are needed for\n",
    "#predC: the predictions\n",
    "def predict(lamb, exposures, predTo, predC, predC_2):\n",
    "# need to make predictions for all periods\n",
    "    pds = list(range(0, predTo))\n",
    "    for i in pds:\n",
    "        predC[i] = poisson.pmf(exposures[i],lamb) * np.sum(people)\n",
    "        predC_2[i] = poisson.pmf(exposures[2],lamb) * np.sum(people)\n"
   ]
  },
  {
   "cell_type": "markdown",
   "metadata": {},
   "source": [
    "<hr style=\"border:2px solid black\">\n",
    "<b>Make predictions</b>\n",
    "<hr style=\"border:2px solid black\">"
   ]
  },
  {
   "cell_type": "code",
   "execution_count": 11,
   "metadata": {},
   "outputs": [
    {
     "data": {
      "text/plain": [
       "array([2.90217594e+00, 1.29320964e+01, 2.88127116e+01, 4.27964824e+01,\n",
       "       4.76752828e+01, 4.24882134e+01, 3.15545808e+01, 2.00867452e+01,\n",
       "       1.11883174e+01, 5.53946044e+00, 2.46838365e+00, 9.99919807e-01,\n",
       "       3.71303567e-01, 1.27271442e-01, 4.05086830e-02, 1.20337798e-02,\n",
       "       3.35140778e-03, 8.78463150e-04, 2.17468440e-04, 5.10020736e-05,\n",
       "       1.13632623e-05, 2.41117612e-06, 4.88372779e-07, 9.46169205e-08])"
      ]
     },
     "execution_count": 11,
     "metadata": {},
     "output_type": "execute_result"
    }
   ],
   "source": [
    "# number of periods we need predictions for \n",
    "predTo = len(bbrd.PEOPLE)\n",
    "# initialize an array of 0s to hold the predictions\n",
    "predC = np.zeros(predTo)\n",
    "predC_2 = np.zeros(predTo)\n",
    "# make the predictions\n",
    "predict(lamb, exposures, predTo, predC, predC_2)\n",
    "predC"
   ]
  },
  {
   "cell_type": "code",
   "execution_count": 12,
   "metadata": {},
   "outputs": [
    {
     "data": {
      "text/plain": [
       "array([28.81271164, 28.81271164, 28.81271164, 28.81271164, 28.81271164,\n",
       "       28.81271164, 28.81271164, 28.81271164, 28.81271164, 28.81271164,\n",
       "       28.81271164, 28.81271164, 28.81271164, 28.81271164, 28.81271164,\n",
       "       28.81271164, 28.81271164, 28.81271164, 28.81271164, 28.81271164,\n",
       "       28.81271164, 28.81271164, 28.81271164, 28.81271164])"
      ]
     },
     "execution_count": 12,
     "metadata": {},
     "output_type": "execute_result"
    }
   ],
   "source": [
    "predC_2"
   ]
  },
  {
   "cell_type": "markdown",
   "metadata": {},
   "source": [
    "<b>The predicted number of people with 2 exposures, based on the Poisson model with λ estimated at approximately 4.456, is about 28.813.<b>"
   ]
  },
  {
   "cell_type": "markdown",
   "metadata": {},
   "source": [
    "<hr style=\"border:2px solid black\">\n",
    "<b>Plot the actual values and predictions</b>\n",
    "<hr style=\"border:2px solid black\">"
   ]
  },
  {
   "cell_type": "code",
   "execution_count": 13,
   "metadata": {},
   "outputs": [
    {
     "data": {
      "image/png": "[encoded data removed]",
      "text/plain": [
       "<Figure size 720x432 with 1 Axes>"
      ]
     },
     "metadata": {
      "needs_background": "light"
     },
     "output_type": "display_data"
    }
   ],
   "source": [
    "import matplotlib.pyplot as plt\n",
    "\n",
    "# Plot the original and the predicted number of exposures\n",
    "plt.figure(figsize=(10, 6))\n",
    "plt.bar(exposures - 0.2, people, width=0.4, label='Original', align='center')\n",
    "plt.bar(exposures + 0.2, predC, width=0.4, label='Predicted', align='center', color='orange')\n",
    "plt.xlabel('Number of Exposures')\n",
    "plt.ylabel('Number of People')\n",
    "plt.title('Original vs Predicted Number of Billboard Exposures')\n",
    "plt.xticks(exposures)\n",
    "plt.legend()\n",
    "plt.grid(True)\n",
    "plt.show()"
   ]
  },
  {
   "cell_type": "markdown",
   "metadata": {},
   "source": [
    "<b>The graph above displays the original versus the predicted number of people across different exposure levels. The original counts are shown in blue, while the predicted counts, based on the Poisson model with the estimated parameter, are shown in orange.<b>"
   ]
  }
 ],
 "metadata": {
  "kernelspec": {
   "display_name": "Python 3 (ipykernel)",
   "language": "python",
   "name": "python3"
  },
  "language_info": {
   "codemirror_mode": {
    "name": "ipython",
    "version": 3
   },
   "file_extension": ".py",
   "mimetype": "text/x-python",
   "name": "python",
   "nbconvert_exporter": "python",
   "pygments_lexer": "ipython3",
   "version": "3.11.5"
  }
 },
 "nbformat": 4,
 "nbformat_minor": 2
}
