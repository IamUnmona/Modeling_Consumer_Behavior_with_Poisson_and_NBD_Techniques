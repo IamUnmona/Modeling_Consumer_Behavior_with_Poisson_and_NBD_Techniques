{
 "cells": [
  {
   "cell_type": "markdown",
   "id": "1af0c2bc",
   "metadata": {},
   "source": [
    "# Develop an NBD model using books01.csv. Report your code, the estimated parameters and the maximum value of the log-likelihood (and any other information you believe is relevant)."
   ]
  },
  {
   "cell_type": "code",
   "execution_count": 1,
   "id": "c7c33117",
   "metadata": {},
   "outputs": [],
   "source": [
    "import pandas as pd\n",
    "from scipy.stats import nbinom\n",
    "from scipy.optimize import minimize\n",
    "import numpy as np\n",
    "from scipy.special import comb"
   ]
  },
  {
   "cell_type": "markdown",
   "id": "0c14ef11",
   "metadata": {},
   "source": [
    "<b>Read data<b>"
   ]
  },
  {
   "cell_type": "code",
   "execution_count": 2,
   "id": "5efc89d8",
   "metadata": {},
   "outputs": [
    {
     "data": {
      "text/html": [
       "<div>\n",
       "<style scoped>\n",
       "    .dataframe tbody tr th:only-of-type {\n",
       "        vertical-align: middle;\n",
       "    }\n",
       "\n",
       "    .dataframe tbody tr th {\n",
       "        vertical-align: top;\n",
       "    }\n",
       "\n",
       "    .dataframe thead th {\n",
       "        text-align: right;\n",
       "    }\n",
       "</style>\n",
       "<table border=\"1\" class=\"dataframe\">\n",
       "  <thead>\n",
       "    <tr style=\"text-align: right;\">\n",
       "      <th></th>\n",
       "      <th>NumberofPurchases</th>\n",
       "      <th>NumberofPeople</th>\n",
       "    </tr>\n",
       "  </thead>\n",
       "  <tbody>\n",
       "    <tr>\n",
       "      <th>0</th>\n",
       "      <td>1</td>\n",
       "      <td>753</td>\n",
       "    </tr>\n",
       "    <tr>\n",
       "      <th>1</th>\n",
       "      <td>2</td>\n",
       "      <td>362</td>\n",
       "    </tr>\n",
       "    <tr>\n",
       "      <th>2</th>\n",
       "      <td>3</td>\n",
       "      <td>175</td>\n",
       "    </tr>\n",
       "    <tr>\n",
       "      <th>3</th>\n",
       "      <td>4</td>\n",
       "      <td>126</td>\n",
       "    </tr>\n",
       "    <tr>\n",
       "      <th>4</th>\n",
       "      <td>5</td>\n",
       "      <td>82</td>\n",
       "    </tr>\n",
       "  </tbody>\n",
       "</table>\n",
       "</div>"
      ],
      "text/plain": [
       "   NumberofPurchases  NumberofPeople\n",
       "0                  1             753\n",
       "1                  2             362\n",
       "2                  3             175\n",
       "3                  4             126\n",
       "4                  5              82"
      ]
     },
     "execution_count": 2,
     "metadata": {},
     "output_type": "execute_result"
    }
   ],
   "source": [
    "df = pd.read_csv(\"books01.csv\")\n",
    "df.head()"
   ]
  },
  {
   "cell_type": "markdown",
   "id": "636b57d9",
   "metadata": {},
   "source": [
    "<b>Define functions needed<b>"
   ]
  },
  {
   "cell_type": "code",
   "execution_count": 3,
   "id": "e0bab838",
   "metadata": {},
   "outputs": [],
   "source": [
    "# Preparing the data\n",
    "x = df['NumberofPurchases']\n",
    "y = df['NumberofPeople']\n",
    "\n",
    "# Negative Binomial Distribution Log-Likelihood Function\n",
    "def nbd_log_likelihood(params):\n",
    "    r, p = params\n",
    "    # Ensuring parameters are within a valid range\n",
    "    if r <= 0 or p <= 0 or p >= 1:\n",
    "        return np.inf\n",
    "    # Calculating the log-likelihood\n",
    "    ll = np.sum(nbinom.logpmf(x, r, p) * y)\n",
    "    # Since we minimize, return negative log-likelihood\n",
    "    return -ll\n"
   ]
  },
  {
   "cell_type": "markdown",
   "id": "92be93fd",
   "metadata": {},
   "source": [
    "<b>Call the optimizer</b>"
   ]
  },
  {
   "cell_type": "code",
   "execution_count": 4,
   "id": "feef3a80",
   "metadata": {},
   "outputs": [],
   "source": [
    "# Initial parameter guesses\n",
    "initial_params = [1, 0.5]\n",
    "# Minimizing the negative of the log-likelihood\n",
    "result = minimize(nbd_log_likelihood, initial_params, method='Nelder-Mead')"
   ]
  },
  {
   "cell_type": "markdown",
   "id": "48ecb736",
   "metadata": {},
   "source": [
    "<b>Review the result</b>"
   ]
  },
  {
   "cell_type": "code",
   "execution_count": 5,
   "id": "2aafde6c",
   "metadata": {},
   "outputs": [
    {
     "data": {
      "text/plain": [
       "(1.2024853978709973, 0.23548107891413683, -4483.172478446997)"
      ]
     },
     "execution_count": 5,
     "metadata": {},
     "output_type": "execute_result"
    }
   ],
   "source": [
    "# Extracting the estimated parameters and log-likelihood\n",
    "estimated_r, estimated_p = result.x\n",
    "max_log_likelihood = -result.fun\n",
    "\n",
    "estimated_r, estimated_p, max_log_likelihood"
   ]
  },
  {
   "cell_type": "markdown",
   "id": "f8823fe7",
   "metadata": {},
   "source": [
    "<b>The estimated parameters for Poisson model: shape_n = 1.2024, alpha = 0.235 and with the maximum value of the log-likelihood being approximately -4483.17<b>"
   ]
  },
  {
   "cell_type": "markdown",
   "id": "f9c90e57",
   "metadata": {},
   "source": [
    "<hr style=\"border:2px solid black\">\n",
    "<b> QUESTION 5 (1): Develop an NBD model using books02.csv (again, ignoring the variables available). Report your code, and confirm that the estimated parameters and the maximum value of the log-likelihood are identical to those obtained with the NBD model developed using books01.csv.<b>\n",
    "<hr style=\"border:2px solid black\">"
   ]
  },
  {
   "cell_type": "markdown",
   "id": "3fc3d77d",
   "metadata": {},
   "source": [
    "<b>Read data<b>"
   ]
  },
  {
   "cell_type": "code",
   "execution_count": 6,
   "id": "876e21aa",
   "metadata": {},
   "outputs": [
    {
     "data": {
      "text/html": [
       "<div>\n",
       "<style scoped>\n",
       "    .dataframe tbody tr th:only-of-type {\n",
       "        vertical-align: middle;\n",
       "    }\n",
       "\n",
       "    .dataframe tbody tr th {\n",
       "        vertical-align: top;\n",
       "    }\n",
       "\n",
       "    .dataframe thead th {\n",
       "        text-align: right;\n",
       "    }\n",
       "</style>\n",
       "<table border=\"1\" class=\"dataframe\">\n",
       "  <thead>\n",
       "    <tr style=\"text-align: right;\">\n",
       "      <th></th>\n",
       "      <th>userid</th>\n",
       "      <th>education</th>\n",
       "      <th>region</th>\n",
       "      <th>hhsz</th>\n",
       "      <th>age</th>\n",
       "      <th>income</th>\n",
       "      <th>child</th>\n",
       "      <th>race</th>\n",
       "      <th>country</th>\n",
       "      <th>number_of_books_purchased</th>\n",
       "    </tr>\n",
       "  </thead>\n",
       "  <tbody>\n",
       "    <tr>\n",
       "      <th>0</th>\n",
       "      <td>6365661</td>\n",
       "      <td>5.0</td>\n",
       "      <td>1.0</td>\n",
       "      <td>2</td>\n",
       "      <td>11.0</td>\n",
       "      <td>7</td>\n",
       "      <td>0</td>\n",
       "      <td>1</td>\n",
       "      <td>0</td>\n",
       "      <td>1</td>\n",
       "    </tr>\n",
       "    <tr>\n",
       "      <th>1</th>\n",
       "      <td>6396922</td>\n",
       "      <td>2.0</td>\n",
       "      <td>2.0</td>\n",
       "      <td>2</td>\n",
       "      <td>8.0</td>\n",
       "      <td>4</td>\n",
       "      <td>0</td>\n",
       "      <td>1</td>\n",
       "      <td>0</td>\n",
       "      <td>1</td>\n",
       "    </tr>\n",
       "    <tr>\n",
       "      <th>2</th>\n",
       "      <td>8999933</td>\n",
       "      <td>4.0</td>\n",
       "      <td>3.0</td>\n",
       "      <td>5</td>\n",
       "      <td>10.0</td>\n",
       "      <td>3</td>\n",
       "      <td>1</td>\n",
       "      <td>1</td>\n",
       "      <td>0</td>\n",
       "      <td>1</td>\n",
       "    </tr>\n",
       "    <tr>\n",
       "      <th>3</th>\n",
       "      <td>9573834</td>\n",
       "      <td>NaN</td>\n",
       "      <td>4.0</td>\n",
       "      <td>2</td>\n",
       "      <td>10.0</td>\n",
       "      <td>5</td>\n",
       "      <td>1</td>\n",
       "      <td>1</td>\n",
       "      <td>0</td>\n",
       "      <td>2</td>\n",
       "    </tr>\n",
       "    <tr>\n",
       "      <th>4</th>\n",
       "      <td>9576277</td>\n",
       "      <td>NaN</td>\n",
       "      <td>1.0</td>\n",
       "      <td>3</td>\n",
       "      <td>8.0</td>\n",
       "      <td>7</td>\n",
       "      <td>1</td>\n",
       "      <td>1</td>\n",
       "      <td>0</td>\n",
       "      <td>5</td>\n",
       "    </tr>\n",
       "  </tbody>\n",
       "</table>\n",
       "</div>"
      ],
      "text/plain": [
       "    userid  education  region  hhsz   age  income  child  race  country  \\\n",
       "0  6365661        5.0     1.0     2  11.0       7      0     1        0   \n",
       "1  6396922        2.0     2.0     2   8.0       4      0     1        0   \n",
       "2  8999933        4.0     3.0     5  10.0       3      1     1        0   \n",
       "3  9573834        NaN     4.0     2  10.0       5      1     1        0   \n",
       "4  9576277        NaN     1.0     3   8.0       7      1     1        0   \n",
       "\n",
       "   number_of_books_purchased  \n",
       "0                          1  \n",
       "1                          1  \n",
       "2                          1  \n",
       "3                          2  \n",
       "4                          5  "
      ]
     },
     "execution_count": 6,
     "metadata": {},
     "output_type": "execute_result"
    }
   ],
   "source": [
    "data_books02 = pd.read_csv(\"books02.csv\")\n",
    "data_books02.head()\n"
   ]
  },
  {
   "cell_type": "markdown",
   "id": "add50dc8",
   "metadata": {},
   "source": [
    "<b>Define funtions needed<b>"
   ]
  },
  {
   "cell_type": "code",
   "execution_count": 7,
   "id": "703ac708",
   "metadata": {},
   "outputs": [],
   "source": [
    "# Creating the frequency distribution for 'books02.xlsx'\n",
    "# Grouping by 'number_of_books_purchased' and counting the number of users\n",
    "freq_dist_books02 = data_books02.groupby('number_of_books_purchased').size().reset_index(name='NumberofPeople')\n",
    "freq_dist_books02.columns = ['NumberofPurchases', 'NumberofPeople']\n",
    "\n",
    "# Defining x_books02 and y_books02 with the correct frequency distribution\n",
    "x_books02 = freq_dist_books02['NumberofPurchases']\n",
    "y_books02 = freq_dist_books02['NumberofPeople']\n",
    "\n",
    "# Define the constrained log-likelihood function\n",
    "def constrained_nbd_log_likelihood(params):\n",
    "    r, p = params\n",
    "    if r <= 0 or p <= 0 or p >= 1:\n",
    "        return np.inf\n",
    "    ll = np.sum(nbinom.logpmf(x_books02, r, p) * y_books02)\n",
    "    return -ll"
   ]
  },
  {
   "cell_type": "markdown",
   "id": "33950bfd",
   "metadata": {},
   "source": [
    "<b>Call the optimizer</b>"
   ]
  },
  {
   "cell_type": "code",
   "execution_count": 8,
   "id": "7db90d99",
   "metadata": {},
   "outputs": [],
   "source": [
    "# Initial parameter guesses\n",
    "initial_params_constrained = [1, 0.5]\n",
    "# Running the optimization with the correctly defined variables\n",
    "result_books02_constrained = minimize(constrained_nbd_log_likelihood, initial_params_constrained, method='Nelder-Mead')"
   ]
  },
  {
   "cell_type": "markdown",
   "id": "0b7308ea",
   "metadata": {},
   "source": [
    "<b>Review the result</b>"
   ]
  },
  {
   "cell_type": "code",
   "execution_count": 9,
   "id": "a7cabf8c",
   "metadata": {},
   "outputs": [
    {
     "data": {
      "text/plain": [
       "(1.2024853978709973, 0.23548107891413683, -4483.172478446997)"
      ]
     },
     "execution_count": 9,
     "metadata": {},
     "output_type": "execute_result"
    }
   ],
   "source": [
    "# Extracting the estimated parameters and log-likelihood for the constrained model\n",
    "estimated_r_books02_constrained, estimated_p_books02_constrained = result_books02_constrained.x\n",
    "max_log_likelihood_books02_constrained = -result_books02_constrained.fun\n",
    "\n",
    "estimated_r_books02_constrained, estimated_p_books02_constrained, max_log_likelihood_books02_constrained"
   ]
  },
  {
   "cell_type": "markdown",
   "id": "de6188b9",
   "metadata": {},
   "source": [
    "<b><b>The estimated parameters for Poisson model: shape_n = 1.2024, alpha = 0.235 and with the maximum value of the log-likelihood being approximately -4483.17<b><b>"
   ]
  },
  {
   "cell_type": "markdown",
   "id": "abb86c52",
   "metadata": {},
   "source": [
    "# Predict the number of people with 0, ..., 20, 20+ visits based on the NBD model. Explain how the predicted values are obtained using the case of 2 exposures (show your calculations). Graph the original and predicted number of visits.  "
   ]
  },
  {
   "cell_type": "markdown",
   "id": "2459daf4",
   "metadata": {},
   "source": [
    "<b>Define function to make predictions<b>"
   ]
  },
  {
   "cell_type": "code",
   "execution_count": 10,
   "id": "b8da6b3e",
   "metadata": {},
   "outputs": [],
   "source": [
    "# Total number of people in the dataset\n",
    "total_people = y_books02.sum()\n",
    "\n",
    "# Function to calculate the probability for a given number of visits using the NBD PMF\n",
    "def nbd_probability(k, r, p):\n",
    "    return comb(k + r - 1, k) * (p ** r) * ((1 - p) ** k)\n"
   ]
  },
  {
   "cell_type": "markdown",
   "id": "f3457557",
   "metadata": {},
   "source": [
    "<b>Make predictions<b>"
   ]
  },
  {
   "cell_type": "code",
   "execution_count": 11,
   "id": "52bd4ef2",
   "metadata": {},
   "outputs": [
    {
     "data": {
      "text/plain": [
       "(246.424454840264,\n",
       " 0.1359958360045607,\n",
       " {0: 318.3790441331019,\n",
       "  1: 292.69312673113524,\n",
       "  2: 246.424454840264,\n",
       "  3: 201.1119820368446,\n",
       "  4: 161.5371462140357,\n",
       "  5: 128.49952136342364,\n",
       "  6: 101.55568699237877,\n",
       "  7: 79.88713256855686,\n",
       "  8: 62.621079539042135,\n",
       "  9: 48.952109994950696,\n",
       "  10: 38.18261215996343,\n",
       "  11: 29.728676539923253,\n",
       "  12: 23.111645347182478,\n",
       "  13: 17.944503492210785,\n",
       "  14: 13.917332409690143,\n",
       "  15: 10.783694463846894,\n",
       "  16: 8.348673341358095,\n",
       "  17: 6.4587426967653405,\n",
       "  18: 4.993377591117264,\n",
       "  19: 3.8582155651004975,\n",
       "  20: 2.97954214542941,\n",
       "  '20+': 10.031699833679994})"
      ]
     },
     "execution_count": 11,
     "metadata": {},
     "output_type": "execute_result"
    }
   ],
   "source": [
    "# Calculating the probability and predicted number of people for 0 to 20 visits\n",
    "predicted_counts = {}\n",
    "for k in range(21):\n",
    "    prob = nbd_probability(k, estimated_r_books02_constrained, estimated_p_books02_constrained)\n",
    "    predicted_counts[k] = prob * total_people\n",
    "\n",
    "# For 20+ visits, sum the probabilities for all visits greater than 20\n",
    "prob_20_plus = sum(nbd_probability(k, estimated_r_books02_constrained, estimated_p_books02_constrained) for k in range(21, 1000))\n",
    "predicted_counts['20+'] = prob_20_plus * total_people\n",
    "\n",
    "# Calculation for 2 visits as an example\n",
    "prob_2_visits = nbd_probability(2, estimated_r_books02_constrained, estimated_p_books02_constrained)\n",
    "predicted_2_visits = prob_2_visits * total_people\n",
    "\n",
    "predicted_2_visits, prob_2_visits, predicted_counts"
   ]
  },
  {
   "cell_type": "markdown",
   "id": "c5600cca",
   "metadata": {},
   "source": [
    "### The predicted values are obtained using the case of 2 exposures is 246.424 .<b>"
   ]
  },
  {
   "cell_type": "markdown",
   "id": "79984d94",
   "metadata": {},
   "source": [
    "<b> Graph the original and predicted number of visits.<b>"
   ]
  },
  {
   "cell_type": "code",
   "execution_count": 15,
   "id": "1e07ab13",
   "metadata": {},
   "outputs": [
    {
     "data": {
      "image/png": "[encoded data removed]",
      "text/plain": [
       "<Figure size 1080x576 with 1 Axes>"
      ]
     },
     "metadata": {
      "needs_background": "light"
     },
     "output_type": "display_data"
    }
   ],
   "source": [
    "import matplotlib.pyplot as plt\n",
    "\n",
    "# Extracting the original number of people for each number of visits\n",
    "original_counts = y_books02.to_dict()\n",
    "\n",
    "# Preparing data for plotting\n",
    "visits = list(range(21)) + ['20+']\n",
    "original_values = [original_counts.get(k, 0) for k in visits[:-1]] + [sum(original_counts.get(k, 0) for k in range(21, max(original_counts.keys()) + 1))]\n",
    "predicted_values = [predicted_counts.get(k, 0) for k in visits]\n",
    "\n",
    "# Plotting\n",
    "plt.figure(figsize=(15, 8))\n",
    "plt.bar([v - 0.15 for v in range(len(visits))], original_values, width=0.3, label='Original', align='center')\n",
    "plt.bar([v + 0.15 for v in range(len(visits))], predicted_values, width=0.3, label='Predicted', align='center')\n",
    "plt.xlabel('Number of Visits')\n",
    "plt.ylabel('Number of People')\n",
    "plt.xticks(ticks=range(len(visits)), labels=visits)\n",
    "plt.title('Original vs. Predicted Number of Visits')\n",
    "plt.legend()\n",
    "plt.grid(axis='y')\n",
    "plt.show()\n"
   ]
  },
  {
   "cell_type": "markdown",
   "id": "4bc6018a",
   "metadata": {},
   "source": [
    "### The graph above displays a comparison between the original and predicted number of people for each number of visits, ranging from 0 to 20 and including a category for 20+ visits. The bars represent the count of people for each category:\n",
    "\n",
    "### The blue bars indicate the original number of people for each number of visits, as per the dataset.\n",
    "### The orange bars represent the predicted number of people based on the Negative Binomial Distribution (NBD) model with the estimated parameters."
   ]
  },
  {
   "cell_type": "markdown",
   "id": "fdf242af",
   "metadata": {},
   "source": [
    "# Calculate the values of (i) reach, (ii) average frequency, and (iii) gross ratings points (GRPs) based on the NBD model. Show your work."
   ]
  },
  {
   "cell_type": "code",
   "execution_count": 13,
   "id": "24c0039b",
   "metadata": {},
   "outputs": [
    {
     "data": {
      "text/plain": [
       "(1493.6209558668986, 4.706985984525824, 387.9940897052735)"
      ]
     },
     "execution_count": 13,
     "metadata": {},
     "output_type": "execute_result"
    }
   ],
   "source": [
    "# Calculating Reach (excluding 0 visits)\n",
    "reach = sum(predicted_values[1:])  # excluding the 0 visit category\n",
    "\n",
    "# Calculating Total Number of Visits\n",
    "total_visits = sum(k * predicted_counts.get(k, 0) for k in range(21)) + 20 * predicted_counts['20+']\n",
    "\n",
    "# Calculating Average Frequency\n",
    "average_frequency = total_visits / reach if reach != 0 else 0\n",
    "\n",
    "# Calculating GRPs\n",
    "# Reach percentage (reach as a percentage of total population)\n",
    "reach_percentage = (reach / total_people) * 100 if total_people != 0 else 0\n",
    "\n",
    "# GRPs = Reach (%) × Average Frequency\n",
    "grps = reach_percentage * average_frequency\n",
    "\n",
    "reach, average_frequency, grps\n"
   ]
  },
  {
   "cell_type": "markdown",
   "id": "73cf0a0b",
   "metadata": {},
   "source": [
    "## Based on the predicted values from the NBD model, I have calculated the following metrics:\n",
    "\n",
    "## Reach: Approximately 1493.62 people. This represents the number of different individuals who made at least one visit.\n",
    "\n",
    "## Average Frequency: Approximately 4.71 times. This indicates that, on average, each person in the reached audience made about 4.71 visits.\n",
    "\n",
    "## Gross Ratings Points (GRPs): Approximately 388.00. This value represents the sum of ratings achieved, indicating the total number of exposures to the audience as a percentage of the audience size, multiplied by the average frequency.\n",
    "\n"
   ]
  }
 ],
 "metadata": {
  "kernelspec": {
   "display_name": "Python 3 (ipykernel)",
   "language": "python",
   "name": "python3"
  },
  "language_info": {
   "codemirror_mode": {
    "name": "ipython",
    "version": 3
   },
   "file_extension": ".py",
   "mimetype": "text/x-python",
   "name": "python",
   "nbconvert_exporter": "python",
   "pygments_lexer": "ipython3",
   "version": "3.11.5"
  }
 },
 "nbformat": 4,
 "nbformat_minor": 5
}
